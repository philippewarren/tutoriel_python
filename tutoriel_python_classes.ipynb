{
 "metadata": {
  "language_info": {
   "codemirror_mode": {
    "name": "ipython",
    "version": 3
   },
   "file_extension": ".py",
   "mimetype": "text/x-python",
   "name": "python",
   "nbconvert_exporter": "python",
   "pygments_lexer": "ipython3",
   "version": 3
  },
  "orig_nbformat": 2
 },
 "nbformat": 4,
 "nbformat_minor": 2,
 "cells": [
  {
   "source": [
    "## Classes\n",
    "Python est un langage orienté objet, et toute la puissance d'un tel langage vient de la possibilité pour les utilisateurs de créer leurs propres types de données. On appelle `classe` le modèle servant à définir un type. Cette classe peut ensuite être `instanciée` aussi souvent que désirer, dans le but d'obtenir des `objets` correspondant au modèle défini par la classe, ou des `instances` de la classe.\n",
    "\n",
    "Une classe est donc tout simplement un modèle qui nous permet de rassembler des données, ainsi que des opérations possibles sur ces données, dans un seul et même objet.\n",
    "\n",
    "### En Python, tout est un objet\n",
    "On l'a déjà mentionné à quelques reprises, mais en Python, tout est un objet.\n",
    "Ainsi, lorsque j'écris `nombre = 2`, je crée un nouvelle instance de la classe `int`, soit un nombre entier, dont la valeur est `2`, et je l'assigne à ma variable. Même chose lorsque je fais `chaine = \"Bonjour!\"`, ou `ensemble = set()`. Nous reviendrons sur `l'instanciation` d'objets plus tard.\n",
    "\n",
    "### Attributs, méthodes \n"
   ],
   "cell_type": "markdown",
   "metadata": {}
  },
  {
   "cell_type": "code",
   "execution_count": null,
   "metadata": {},
   "outputs": [],
   "source": []
  }
 ]
}