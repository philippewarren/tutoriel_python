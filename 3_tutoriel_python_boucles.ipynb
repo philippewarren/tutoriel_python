{
 "metadata": {
  "language_info": {
   "codemirror_mode": {
    "name": "ipython",
    "version": 3
   },
   "file_extension": ".py",
   "mimetype": "text/x-python",
   "name": "python",
   "nbconvert_exporter": "python",
   "pygments_lexer": "ipython3",
   "version": "3.9.5"
  },
  "orig_nbformat": 2,
  "kernelspec": {
   "name": "python395jvsc74a57bd019a9e2250981a50c8d3a3d12972bc8b4095913f61c1fe8c3c9c8b6c0d63cf46a",
   "display_name": "Python 3.9.5 64-bit"
  },
  "metadata": {
   "interpreter": {
    "hash": "5c063b7dfde333fdf20f984fb74f4a088bf1bd86dc4c7a2f2a7ddaa47c07b2ec"
   }
  }
 },
 "nbformat": 4,
 "nbformat_minor": 2,
 "cells": [
  {
   "source": [
    "\n",
    "## Boucles\n",
    "\n",
    "Les boucles servent à répéter les mêmes instructions plusieurs fois. Il en existe deux types principaux, les boucles `while` et les boucles `for`.\n",
    "\n",
    "### Boucles `while`\n",
    "\n",
    "Une boucle `while` s'exécute tant et aussi longtemps qu'une condition booléenne est vraie. Voici la structure générale d'une boucle `while`. Les éléments entre crochet `[]` sont facultatifs.\n",
    "\n",
    "```python\n",
    "while <condition_booleenne>:\n",
    "    declaration_1\n",
    "    [declaration_2]\n",
    "    [...]\n",
    "```\n",
    "\n",
    "Comme pour le `if`, un bloc `while` peut contenir un ou plusieurs déclarations. Si on veut que rien ne se passe dans la boucle `while`, on peut utiliser la déclaration spéciale `pass`. De plus, c'est encore une fois le niveau d'indentation qui détermine ce qui est contenu ou pas dans la boucle `while`."
   ],
   "cell_type": "markdown",
   "metadata": {}
  },
  {
   "cell_type": "code",
   "execution_count": null,
   "metadata": {},
   "outputs": [],
   "source": [
    "nombre = 0\n",
    "while nombre < 12:\n",
    "    print(nombre)\n",
    "    nombre += 1"
   ]
  },
  {
   "source": [
    "### Les itérateurs en Python\n",
    "Un itérateur est n'importe quel **objet** contenant plusieurs informations, auxquelles on peut accéder séquentiellement. Par exemple, une `list`, un `dict`, un `set` et un `tuple` sont des itérateurs. Les objets de type `str` sont aussi des itérateurs: ils retournent séquentiellement chacun des caractères qui les composent.\n",
    "Les itérateurs seront très importants pour les boucles `for`.\n",
    "\n",
    "#### Les générateurs en Python: une forme spéciale d'itérateurs\n",
    "Les générateurs sont des itérateurs spéciaux: ils sont `lazy`. On les appelle ainsi, car ils ne contiennent pas *vraiment* plusieurs informations accessibles de façon subséquente, ils possèdent la *recette* pour nous donner ces informations séquentiellement. Pour forcer un générateur à calculer *tout de suite* toutes les valeurs qu'il sait calculer, on peut le convertir en `list`, en `tuple` ou en `set`, par exemple, avec les fonctions `list(<generateur>)`, `tuple(<generateur>)` et `set(<generateur>)`.\n",
    "\n",
    "L'un des générateurs les plus pratiques pour les boucles `for` est le `range`.\n",
    "\n",
    "#### La fonction `range`\n",
    "La fonction `range` s'utilise de plusieurs manières, et elle **retourne** un générateur qui nous donne successivement plusieurs nombres entiers dans la plage demandée.\n",
    "\n",
    "```\n",
    "range(12) # Retourne séquentiellement les nombres entiers de 0 à 11 (par défaut, commence à 0, et la borne de fin est EXCLUE)\n",
    "range(10, 18) # Retourne séquentiellement les nombres entiers de 10 à 17 (on précise le début, qui est INCLUS) \n",
    "range(2, 17, 3) # Retourne séquentiellement les nombres entiers 2, 5, 8, 11, 14 (on commence à 2 INCLUS, on avance par bonds de 3, et on arrête à 17 EXCLU)\n",
    "```"
   ],
   "cell_type": "markdown",
   "metadata": {}
  },
  {
   "cell_type": "code",
   "execution_count": null,
   "metadata": {},
   "outputs": [],
   "source": [
    "print(list(range(12)), \" -> noter les [] indiquant une list\") # 0 à 11, en list\n",
    "print(tuple(range(10, 18)), \" -> noter les () indiquant un tuple\") # 10 à 17, en tuple \n",
    "print(set(range(2, 17, 3)), \" -> noter les {} indiquant un set\") # 2, 5, 8, 11, 14, en set"
   ]
  },
  {
   "source": [
    "### La boucle `for` en Python et les itérateurs\n",
    "En Python, la boucle `for` *itère* sur les éléments d'un itérateur. La syntaxe est la suivante:\n",
    "\n",
    "```python\n",
    "for <element_actuel> in <iterateur>:\n",
    "    declaration_1\n",
    "    [declaration_2]\n",
    "    [...]\n",
    "```\n",
    "\n",
    "Ici, `iterateur` est un itérateur ou un nom de variable contenant un itérateur. `element_actuel` est un nouveau nom de variable, qui sera utilisé à l'intérieur de la boucle `for` pour référer à l'élément actuel."
   ],
   "cell_type": "markdown",
   "metadata": {}
  },
  {
   "cell_type": "code",
   "execution_count": null,
   "metadata": {},
   "outputs": [],
   "source": [
    "for element in [1, \"allo\", None, \"test\", False, 45.235]:\n",
    "    print(element)"
   ]
  },
  {
   "cell_type": "code",
   "execution_count": null,
   "metadata": {},
   "outputs": [],
   "source": [
    "for caractere in \"Hello world!\":\n",
    "    print(caractere)"
   ]
  },
  {
   "cell_type": "code",
   "execution_count": null,
   "metadata": {},
   "outputs": [],
   "source": [
    "somme = 0\n",
    "for entier in range(0, 15, 2):\n",
    "    somme += entier\n",
    "    print(entier)\n",
    "print(f\"-> La somme est {somme}.\")\n",
    "print(f\"-> Parfois, une boucle n'est pas nécessaire! La somme est encore {sum(range(0, 15, 2))}!\")"
   ]
  },
  {
   "source": [
    "### Contrôle plus fin du comportement des boucles\n",
    "Parfois, on peut vouloir contrôler un peu plus finement le comportement des boucles `while` et `for`. On a trois outils supplémentaires pour le faire:\n",
    "- La déclaration `break`\n",
    "- La déclaration `continue`\n",
    "- Le bloc `else` (et oui, il revient!)\n",
    "\n",
    "#### Le mot-clé `break`\n",
    "`break` est un raccourci permettant de mettre fin immédiatement à la boucle."
   ],
   "cell_type": "markdown",
   "metadata": {}
  },
  {
   "cell_type": "code",
   "execution_count": null,
   "metadata": {},
   "outputs": [],
   "source": [
    "for item in ['a', 'b', 'c', 'd', 'e']:\n",
    "    print(item)\n",
    "    if item == 'c': # On arrête dès qu'on atteint c\n",
    "        break"
   ]
  },
  {
   "cell_type": "code",
   "execution_count": null,
   "metadata": {},
   "outputs": [],
   "source": [
    "nombre = 0\n",
    "while nombre < 12:\n",
    "    print(nombre)\n",
    "    nombre += 1\n",
    "    if nombre >= 8: # On arrête quand le prochain nombre serait plus grand ou égal à 8\n",
    "        break"
   ]
  },
  {
   "source": [
    "#### Le mot-clé `continue`\n",
    "`continue` permet de passe au prochain élément de la boucle immédiatement."
   ],
   "cell_type": "markdown",
   "metadata": {}
  },
  {
   "cell_type": "code",
   "execution_count": null,
   "metadata": {},
   "outputs": [],
   "source": [
    "chaine_quelconque = \"allo, tout le monde!\"\n",
    "caracteres_sauf_voyelles = []\n",
    "for lettre in chaine_quelconque:\n",
    "    if lettre in \"aeiouy\": # Si c'est une voyelle\n",
    "        print(f\"On saute {lettre}\")\n",
    "        continue\n",
    "    caracteres_sauf_voyelles.append(lettre)\n",
    "print(caracteres_sauf_voyelles)"
   ]
  },
  {
   "cell_type": "code",
   "execution_count": null,
   "metadata": {},
   "outputs": [],
   "source": [
    "somme_pairs = 0\n",
    "nombre_quelconque = 0\n",
    "while nombre_quelconque <= 9:\n",
    "    if element % 2 == 1: # Si le reste de la division par 2 est de 1, donc si c'est un nombre impair\n",
    "        print(f\"On saute {element}\")\n",
    "        continue\n",
    "    \n",
    "    somme_pairs += element\n",
    "    print(f\"On ajoute {element} à la somme qui vaut maintenant {somme_pairs}\")\n",
    "print(f\"On a finalement une somme de {somme_pairs}, qui est bien égale à (2 + 4 + 6 + 8) == {2 + 4 + 6 + 8}\")"
   ]
  },
  {
   "source": [
    "#### Le bloc `else` avec `for` et `while`\n",
    "En Python, on peut mettre un bloc `else` après une boucle `for` ou `while`. Ce bloc sera excuté si la boucle se termine normalement, et ne sera pas excuté si elle se termine à cause d'un `break`."
   ],
   "cell_type": "markdown",
   "metadata": {}
  },
  {
   "cell_type": "code",
   "execution_count": null,
   "metadata": {},
   "outputs": [],
   "source": [
    "for i in range(5):\n",
    "    print(i)\n",
    "else:\n",
    "    print(\"Fini normalement\")\n",
    "\n",
    "for i in range(5):\n",
    "    print(i)\n",
    "    if i == 3:\n",
    "        break\n",
    "else:\n",
    "    print(\"Fini normalement\")"
   ]
  },
  {
   "cell_type": "code",
   "execution_count": null,
   "metadata": {},
   "outputs": [],
   "source": [
    "i = 0\n",
    "while i < 5:\n",
    "    print(i)\n",
    "    i += 1\n",
    "else:\n",
    "    print(\"Fini normalement\")\n",
    "\n",
    "i = 0\n",
    "while i < 5:\n",
    "    print(i)\n",
    "    if i == 3:\n",
    "        break\n",
    "    i += 1\n",
    "else:\n",
    "    print(\"Fini normalement\")"
   ]
  },
  {
   "source": [
    "### Itérer sur un dictionnaire\n",
    "L'itération sur un dictionnaire peut prendre plusieurs formes, selon l'information qu'on souhaite utiliser. Par défaut, itérer sur un dictionnaire itère sur les clés du dictionnaire.\n",
    "\n",
    "```python\n",
    "for cle in dictionnaire:\n",
    "    ... # On fait des trucs avec la clé\n",
    "```\n",
    "On peut aussi spécifiquement indiquer qu'on travaille avec les clés à l'aide de la vue sur les clés:\n",
    "\n",
    "```python\n",
    "for cle in dictionnaire.keys():\n",
    "    ... # On fait des trucs avec la clé\n",
    "```\n",
    "\n",
    "Si on souhaite plutôt itérer sur les valeurs contenues dans le dictionnaire, on peut utiliser la vue sur les valeurs:\n",
    "\n",
    "```python\n",
    "for valeur in dictionnaire.values():\n",
    "    ... # On fait des trucs avec la valeur\n",
    "```\n",
    "\n",
    "Mais que faire si on veut les clés ET les valeurs? On pourrait boucler sur les clés, et obtenir les valeurs à l'aide des clés:\n",
    "\n",
    "```python\n",
    "for cle in dictionnaire:\n",
    "    valeur = dictionnaire[cle]\n",
    "    ... # On fait des trucs avec la clé et la valeur\n",
    "```\n",
    "\n",
    "Toutefois, la manière façon de faire est d'utiliser la vue sur les items:\n",
    "\n",
    "```python\n",
    "for cle, valeur in dictionnaire.items():\n",
    "    ... # On fait des trucs avec la clé et la valeur\n",
    "```\n"
   ],
   "cell_type": "markdown",
   "metadata": {}
  },
  {
   "cell_type": "code",
   "execution_count": null,
   "metadata": {},
   "outputs": [],
   "source": [
    "dictionnaire = {\"allo\": 1, \"test\": 2, \"monde\": True}\n",
    "for cle, valeur in dictionnaire.items():\n",
    "    print(f\"Clé: {cle} -> Valeur: {valeur}\")"
   ]
  },
  {
   "source": [
    "### Itérateur de tuples dans une boucle `for`\n",
    "\n",
    "On l'a vu subtilement avec la vue des `items` du dictionnaire: la boucle `for` peut séparer un tuple en composantes.\n",
    "Voici un exemple plus évident:"
   ],
   "cell_type": "markdown",
   "metadata": {}
  },
  {
   "cell_type": "code",
   "execution_count": null,
   "metadata": {},
   "outputs": [],
   "source": [
    "liste_tuples = [(1, True, \"allo\"), (423, False, \"test\"), (54.123, False, \"monde\"), (4, False, \"patate\")]\n",
    "\n",
    "for nombre, booleen, chaine in liste_tuples:\n",
    "    print(f\"Nombre: {nombre} -> Booléen: {booleen} -> Chaîne: -> {chaine}\")"
   ]
  },
  {
   "source": [
    "### Obtenir l'index d'un élément avec `enumerate`\n",
    "\n",
    "Parfois, on veut itérer sur une `list` ou un `tuple`, mais on a besoin non seulement de la valeur, mais aussi de l'index (0, 1, 2, ...).\n",
    "On pourrait utiliser un `range`:\n",
    "\n",
    "```python\n",
    "for index in range(len(liste)):\n",
    "    valeur = liste[index]\n",
    "    ... # On fait des trucs avec l'index et la valeur\n",
    "```\n",
    "\n",
    "Par contre, comme c'est très laid, Python a une autre méthode, plus élégante: la fonction `enumerate`.\n",
    "`enumerate` crée un générateur, qui nous présente séquentiellement la paire `(index, valeur)` pour chaque élément d'un itérable.\n",
    "\n",
    "```\n",
    "for index, valeur in enumerate(liste):\n",
    "    ... # On fait des trucs avec l'index et la valeur\n",
    "```"
   ],
   "cell_type": "markdown",
   "metadata": {}
  },
  {
   "cell_type": "code",
   "execution_count": null,
   "metadata": {},
   "outputs": [],
   "source": [
    "liste = [\"allo\", 12, True, \"test\", 34.432]\n",
    "for index, valeur in enumerate(liste):\n",
    "    print(f\"Index: {index} -> Valeur: {valeur}\")\n",
    "    \n",
    "print(\"-\"*30)\n",
    "liste = [\"allo\", 12, True, \"test\", 34.432]\n",
    "for index, valeur in enumerate(liste, 12): # On peut changer la valeur de départ en la spécifiant en deuxième argument\n",
    "    print(f\"Index: {index} -> Valeur: {valeur}\")"
   ]
  }
 ]
}