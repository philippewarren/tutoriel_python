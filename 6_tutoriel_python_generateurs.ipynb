{
 "metadata": {
  "language_info": {
   "codemirror_mode": {
    "name": "ipython",
    "version": 3
   },
   "file_extension": ".py",
   "mimetype": "text/x-python",
   "name": "python",
   "nbconvert_exporter": "python",
   "pygments_lexer": "ipython3",
   "version": "3.9.5"
  },
  "orig_nbformat": 2,
  "kernelspec": {
   "name": "pythonjvsc74a57bd05c063b7dfde333fdf20f984fb74f4a088bf1bd86dc4c7a2f2a7ddaa47c07b2ec",
   "display_name": "Python 3.9.5 64-bit ('.venv': venv)"
  },
  "metadata": {
   "interpreter": {
    "hash": "5c063b7dfde333fdf20f984fb74f4a088bf1bd86dc4c7a2f2a7ddaa47c07b2ec"
   }
  }
 },
 "nbformat": 4,
 "nbformat_minor": 2,
 "cells": [
  {
   "source": [
    "## Créer des générateurs\n",
    "\n",
    "On a parlé dans la partie sur les boucles des générateurs, qui sont des itérateurs `lazy`, c'est-à-dire qu'ils ne connaissent que la recette pour générer une séquence spécifique, pas toutes les valeurs de la séquence.\n",
    "\n",
    "Il existe deux façons principales pour créer des générateurs.\n",
    "\n",
    "### Expression générateur (*generator expression*)\n",
    "\n",
    "Une expression générateur a la forme de base suivante\n",
    "\n",
    "```python\n",
    "(<expression> for <variable> in <itérateur> [if <condition>])\n",
    "```\n",
    "\n",
    "On voit que la syntaxe ressemble un peu à celle d'une boucle `for`. En effet, on a une variable qui prend séquentiellement toutes les valeurs dans un itérateur. On peut ensuite utiliser cette variable dans une expression, et potentiellement dans une condition.\n",
    "\n",
    "Noter que les parenthèses sont requises."
   ],
   "cell_type": "markdown",
   "metadata": {}
  },
  {
   "cell_type": "code",
   "execution_count": null,
   "metadata": {},
   "outputs": [],
   "source": [
    "generer_nombres_pairs = (i for i in range(20) if i % 2 == 0)\n",
    "print(generer_nombres_pairs) # On a pas tous les nombres, juste la recette, puisque le générateur est \"lazy\"\n",
    "for n in generer_nombres_pairs: # On génère les valeurs au fur et à mesure\n",
    "    print(n)"
   ]
  },
  {
   "cell_type": "code",
   "execution_count": null,
   "metadata": {},
   "outputs": [],
   "source": [
    "generer_carres_des_nombres_pairs = (i**2 for i in range(10) if i % 2 == 0)\n",
    "print(generer_carres_des_nombres_pairs) # On a pas tous les nombres, juste la recette, puisque le générateur est \"lazy\"\n",
    "for n in generer_carres_des_nombres_pairs: # On génère les valeurs au fur et à mesure\n",
    "    print(n)\n",
    "\n",
    "print(\"-\"*30) # Un générateur ne fonctionne qu'une fois\n",
    "for n in generer_carres_des_nombres_pairs: # Ici, le générateur est déjà vide, donc la boucle termine immédiatement, sans rien faire\n",
    "    print(f\"Deuxième fois: n\")"
   ]
  },
  {
   "source": [
    "#### Générer d'autres structures de données avec une expression générateur\n",
    "\n",
    "Il est possible de générer une liste ou un set directement avec une expression générateur, en remplaçant tout simplement les parenthèses par des crochets `[]` pour une liste ou par des accolades `{}` pour un set. Pour un tuple, on ajoute un appel à `tuple` en passant l'expression générateur comme argument."
   ],
   "cell_type": "markdown",
   "metadata": {}
  },
  {
   "cell_type": "code",
   "execution_count": null,
   "metadata": {},
   "outputs": [],
   "source": [
    "generer_nombres_liste = [i**2 for i in range(10)]\n",
    "print(generer_nombres_liste)\n",
    "generer_nombres_set = {i**2 for i in range(10)}\n",
    "print(generer_nombres_set) # Le set ne conserve pas l'ordre\n",
    "generer_nombres_tuple = tuple(i**2 for i in range(10))\n",
    "print(generer_nombres_tuple)"
   ]
  },
  {
   "source": [
    "### Fonction générateur\n",
    "\n",
    "Il est aussi possible de créer un générateur avec une syntaxe de fonction un peu spéciale. Cette approche à quelques avantages, dont celui de créer un générateur n'ayant potentiellement pas de fin!\n",
    "\n",
    "Pour ce faire, on utilise le mot clé `yield`, qui agit comme `return`, mais au lieu d'arrêter l'exécution de la fonction et de retourner une valeur, il met le générateur sur pause, et retourne une valeur. La prochaine fois qu'on demande une valeur au générateur, il reprend au même endroit.\n",
    "\n",
    "L'exemple suivant montre un générateur permettant de générer les \"combien\" premiers nombres de la suite de Fibonacci."
   ],
   "cell_type": "markdown",
   "metadata": {}
  },
  {
   "cell_type": "code",
   "execution_count": null,
   "metadata": {},
   "outputs": [],
   "source": [
    "from typing import Optional\n",
    "\n",
    "def fibonacci(combien: Optional[int] = 10) -> int:\n",
    "    \"\"\"Retourne les \"combien\" premiers nombres de la suite de Fibonacci, ou toute la suite si \"combien\" est None\"\"\"\n",
    "    nombre_precedent_2 = 0\n",
    "    nombre_precedent_1 = 1\n",
    "    \n",
    "    if combien is None:\n",
    "        # On donne les deux premiers termes\n",
    "        yield nombre_precedent_2\n",
    "        yield nombre_precedent_1\n",
    "        # On continue à donner les autres termes, pour toujours\n",
    "        while True:\n",
    "            nombre_actuel = nombre_precedent_1 + nombre_precedent_2\n",
    "            nombre_precedent_2 = nombre_precedent_1\n",
    "            nombre_precedent_1 = nombre_actuel\n",
    "            yield nombre_actuel\n",
    "    else:\n",
    "        # Si on demande 0 nombres ou moins, ce n'est pas valide, on arrête tout de suite\n",
    "        if combien <= 0:\n",
    "            return\n",
    "        \n",
    "        # On donne 0, le premier terme de la suite de Fibonacci\n",
    "        yield nombre_precedent_2\n",
    "        if combien == 1: # Si on voulait un seul terme, on arrête ici\n",
    "            return\n",
    "        \n",
    "        # Maintenant, on donne 1, le second terme de la suite de Fibonacci\n",
    "        yield nombre_precedent_1\n",
    "        if combien == 2: # Si on voulait seulement deux termes, on arrête ici\n",
    "            return\n",
    "\n",
    "        # Pour chaque nombre restant avant d'arriver à \"combien\" nombres, on donne le prochain nombre de la suite\n",
    "        for i in range(combien-2):\n",
    "            nombre_actuel = nombre_precedent_1 + nombre_precedent_2\n",
    "            nombre_precedent_2 = nombre_precedent_1\n",
    "            nombre_precedent_1 = nombre_actuel\n",
    "            yield nombre_actuel"
   ]
  },
  {
   "cell_type": "code",
   "execution_count": null,
   "metadata": {},
   "outputs": [],
   "source": [
    "a = fibonacci(0)\n",
    "b = fibonacci(1)\n",
    "c = fibonacci(2)\n",
    "d = fibonacci()\n",
    "e = fibonacci(None)\n",
    "\n",
    "print(a)\n",
    "\n",
    "print(\"-\"*30)\n",
    "for i in a:\n",
    "    print(i)\n",
    "print(\"-\"*30)\n",
    "for i in b:\n",
    "    print(i)\n",
    "print(\"-\"*30)\n",
    "for i in c:\n",
    "    print(i)\n",
    "print(\"-\"*30)\n",
    "for i in d:\n",
    "    print(i)\n",
    "print(\"-\"*30)\n",
    "\n",
    "for i in e:\n",
    "    print(i)\n",
    "    # On l'arrête après un certain temps, puisque celui-ci ne finira jamais\n",
    "    if i > 500:\n",
    "        break\n",
    "print(\"-\"*30)"
   ]
  }
 ]
}