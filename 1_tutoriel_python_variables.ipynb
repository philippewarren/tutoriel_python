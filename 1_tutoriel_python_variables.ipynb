{
 "metadata": {
  "language_info": {
   "codemirror_mode": {
    "name": "ipython",
    "version": 3
   },
   "file_extension": ".py",
   "mimetype": "text/x-python",
   "name": "python",
   "nbconvert_exporter": "python",
   "pygments_lexer": "ipython3",
   "version": "3.9.5"
  },
  "orig_nbformat": 2,
  "kernelspec": {
   "name": "python395jvsc74a57bd019a9e2250981a50c8d3a3d12972bc8b4095913f61c1fe8c3c9c8b6c0d63cf46a",
   "display_name": "Python 3.9.5 64-bit"
  },
  "metadata": {
   "interpreter": {
    "hash": "19a9e2250981a50c8d3a3d12972bc8b4095913f61c1fe8c3c9c8b6c0d63cf46a"
   }
  }
 },
 "nbformat": 4,
 "nbformat_minor": 2,
 "cells": [
  {
   "source": [
    "### On commence par un classique: l'affichage d'information"
   ],
   "cell_type": "markdown",
   "metadata": {}
  },
  {
   "cell_type": "code",
   "execution_count": null,
   "metadata": {},
   "outputs": [],
   "source": [
    "print(\"Hello World!\")"
   ]
  },
  {
   "source": [
    "### Variables\n",
    "- En Python, il n'est pas requis de spécifier le type des variables\n",
    "- Les variables peuvent aussi servir à représenter n'importe quel type d'informations\n",
    "- Par convention, les noms des variables sont en snake_case\n",
    "  - Aucune majuscule\n",
    "  - Les espaces sont remplacés par des *underscores* (_)\n",
    "  - Exemple: ma_variable_speciale\n",
    "  - Si la valeur est une constante, on la met en majuscules\n",
    "  - Exemple: MA_CONSTANTE_SPECIALE\n",
    "- On peut nommer des variables avec des caractères spéciaux, comme π, par exemple\n",
    "\n",
    "#### Types les plus communs\n",
    "- Nombre entier (int)\n",
    "- Nombre réel (float)\n",
    "- Nombre complex (complex)\n",
    "- Valeur booléenne (bool)\n",
    "- Chaînes de caractères (str)\n",
    "- Listes (list)\n",
    "- Tuples (tuple)\n",
    "- Dictionnaires (dict)\n",
    "- Ensemble (set)\n",
    "- Aucune valeur (**None**)"
   ],
   "cell_type": "markdown",
   "metadata": {}
  },
  {
   "source": [
    "entier = 35\n",
    "print(entier)\n",
    "reel = 23.432\n",
    "print(reel)\n",
    "complexe = 325.234 + 324.432j\n",
    "print(complexe)\n",
    "vrai = True\n",
    "print(vrai)\n",
    "faux = False\n",
    "print(faux)\n",
    "chaine = \"Bonjour!\"\n",
    "chaine_version_2 = 'Bonjour!'\n",
    "print(chaine)\n",
    "print(chaine_version_2)\n",
    "une_liste = [32, \"Chaîne\", 34.34 - 34j, \"Autre chaîne\", -134, False]\n",
    "print(une_liste)\n",
    "un_tuple = (32, \"Chaîne\", 34.34 - 34j, \"Autre chaîne\", -134, False)\n",
    "print(un_tuple)\n",
    "un_dict = {\"cle\": \"valeur\", \"cle_int\": 134, 0.23: \"valeur_float\", False: 34}\n",
    "print(un_dict)\n",
    "un_ensemble = {\"cle\", 13, 45.343, True}\n",
    "print(un_ensemble)\n",
    "rien = None\n",
    "print(rien)\n",
    "# Caractères spéciaux\n",
    "π = 3.141592\n",
    "print(π)"
   ],
   "cell_type": "code",
   "metadata": {},
   "execution_count": null,
   "outputs": []
  },
  {
   "source": [
    "### Nombres: opérations de base\n",
    "- Addition `+`\n",
    "- Soustraction `-`\n",
    "- Multiplication `*`\n",
    "- Division `/`\n",
    "- Division entière `//`\n",
    "  - Fait une division, mais en ne gardant que la partie entière\n",
    "  - Par exemple, `7 // 2` donnerait 3 (7 / 2 donne 3.5, et la partie entière est 3)\n",
    "  - Avec les nombres négatifs, on arrondit vers l'inférieur\n",
    "  - Par exemple, `-7 // 2` donnerait -4 (-7 / 2 donne -3.5, et la partie entière donne -4)\n",
    "- Modulo `%`\n",
    "  - Permet d'obtenir le reste de la divion entière\n",
    "  - Par exemple, `7 % 2` donnerait `1`, car 7 / 2 = 3. On peut donc enlever 3*2, et il reste 1.\n",
    "  - Intuitif pour des entiers, je n'ai aucune idée de comment ça marche avec des float.\n",
    "- Exposant `**`\n"
   ],
   "cell_type": "markdown",
   "metadata": {}
  },
  {
   "cell_type": "code",
   "execution_count": null,
   "metadata": {},
   "outputs": [],
   "source": [
    "print(1 + 3.4) # 4.4\n",
    "print(1 - 3.4) # -2.4\n",
    "print(entier - reel) # 35 - 23.432 = 11.568\n",
    "print(2 * 2.3) # 4.6\n",
    "print(4 / 3) # 1.333333\n",
    "print(4 // 3) # 1\n",
    "print(4 % 3) # 1\n",
    "print(3 ** 3) # 27"
   ]
  },
  {
   "source": [
    "### Nombres: comparaisons\n",
    "- Plus grand et plus petit `>` et `<`\n",
    "- Plus grand ou égal et plus petit ou égal `>=` et `<=`\n",
    "- Égal `==`\n",
    "  - Double égal, car le simple égal sert à assigner des variables!\n",
    "- Pas égal `!=`"
   ],
   "cell_type": "markdown",
   "metadata": {}
  },
  {
   "source": [
    "print(2 > 3)\n",
    "print(3 < 3)\n",
    "print(3 <= 3)\n",
    "print(3.2 == 4.43)\n",
    "print(3 != 4)\n",
    "# Cas spécial pour les float, l'égalité (ou la non-égalité) doivent comparer avec une certaine précision\n",
    "print(3.0000000000000003 == 3)\n",
    "print(3.0000000000000002 == 3)\n"
   ],
   "cell_type": "code",
   "metadata": {},
   "execution_count": null,
   "outputs": []
  },
  {
   "source": [
    "### Valeurs booléennes: opérations\n",
    "- Pour les opérations numériques, `True == 1` et `False == 0`\n",
    "- ET `and`\n",
    "- OU `or`\n",
    "- OU exclusif (*xor*) `^`\n",
    "- Négation `not`\n",
    "- Comparaison par identité"
   ],
   "cell_type": "markdown",
   "metadata": {}
  },
  {
   "cell_type": "code",
   "execution_count": null,
   "metadata": {},
   "outputs": [],
   "source": [
    "print(True and False)\n",
    "print(True or False)\n",
    "print(not False)\n",
    "print(not True)\n",
    "print(True ^ False)\n",
    "print(True ^ True)"
   ]
  },
  {
   "source": [
    "### Chaînes de caractères: opérations et comparaison\n",
    "- Concaténation `+`\n",
    "- Comparaison `==` `!=` `<` `>` `<=` `>=`\n",
    "  - Utilise l'ordre alphabétique\n",
    "- Chaînes **f**\n",
    "  - Permet de formater une chaîne\n",
    "- Répétition `*`\n",
    "- Accès et tranches\n",
    "  - Voir la section sur les listes plus bas\n",
    "- Taille"
   ],
   "cell_type": "markdown",
   "metadata": {}
  },
  {
   "cell_type": "code",
   "execution_count": null,
   "metadata": {},
   "outputs": [],
   "source": [
    "print(\"Pa\" + \"pa\") # Papa\n",
    "print(\"allo\" < \"allp\") # True\n",
    "print(\"allp\" > \"allq\") # False\n",
    "a = 21\n",
    "print(\"J'ai a ans!\") # J'ai a ans!\n",
    "print(\"J'ai {a} ans!\") # J'ai {a} ans!\n",
    "print(f\"J'ai {a} ans!\") # J'ai 21 ans!\n",
    "print(f\"J'ai {a} ans et cette phrase contient une paire d'accolades {{ et }}.\") # [...] d'accolades { et }.\n",
    "print(\"piano, panier, \" * 12) # Piano, panier, Piano, panier, Piano, panier, [...]\n",
    "print(len(\"allo\")) # Taille"
   ]
  },
  {
   "source": [
    "### Listes: opérations de base\n",
    "Les index de la liste commencent à 0, contrairement à Matlab, où ça commence à 1. On peut mettre n'importe quoi dans une liste.\n",
    "\n",
    "- Ajout\n",
    "- Retrait\n",
    "- Accès\n",
    "- Tranches\n",
    "- Concaténation\n",
    "- Contient\n",
    "- Vider\n",
    "- Taille"
   ],
   "cell_type": "markdown",
   "metadata": {}
  },
  {
   "cell_type": "code",
   "execution_count": null,
   "metadata": {},
   "outputs": [],
   "source": [
    "liste = [1, \"allo\", True, 2324.32, \"BYE\"]\n",
    "print(liste)\n",
    "liste.append(False) # Ajout\n",
    "print(liste)\n",
    "liste.remove(2324.32) # Retrait\n",
    "print(liste)\n",
    "element = liste.pop(0) # Retrait par position, et récupération\n",
    "print(element)\n",
    "print(liste)\n",
    "print(liste[0]) # Accès en lecture, on obtient l'élément à l'index 0\n",
    "liste[1] = \"Blabla\" # Accès en écriture, on remplace l'élément à l'index 3\n",
    "print(liste)\n",
    "print(liste[-2]) # Accès en partant de la fin\n",
    "\n",
    "nouvelle_liste = [0, 1, 2, 3, 4, 5, 6, 7, 8, 9]\n",
    "print(nouvelle_liste[3:]) # Tranche 'à partir de' l'index 3, donc à partir de 3\n",
    "print(nouvelle_liste[:5]) # Tranche 'jusqu'à' l'index 5 EXCLUSIF, donc jusqu'à 4\n",
    "print(nouvelle_liste[2:8]) # Tranche `entre' les index 2 INCLUSIF à 8 EXCLUSIF, donc de 2 à 7\n",
    "print(nouvelle_liste[-3:]) # Les 3 derniers éléments à l'aide d'un index négatif\n",
    "print(\"abcdefg\"[2:]) # On peut faire pareil avec les chaînes de caractères\n",
    "\n",
    "print(liste + nouvelle_liste) # Concaténation de listes\n",
    "print(7 in nouvelle_liste) # Contient: oui\n",
    "print(24 in nouvelle_liste) # Contient: non\n",
    "nouvelle_liste.clear() # Vider\n",
    "print(nouvelle_liste)\n",
    "print(len(liste)) # Longueur avec len\n",
    "print(liste)"
   ]
  },
  {
   "source": [
    "### Tuples: opérations de base et différences avec la liste\n",
    "Un tuple est plus ou moins une liste qui ne peut pas changer (immuable). On peut mettre n'importe quoi dans un tuple, tant que c'est immuable.\n",
    "- Pas d'ajout ou de retrait\n",
    "- Accès en lecture seulement\n",
    "- Tranches\n",
    "- Concaténation\n",
    "- Contient\n",
    "- Pas de vidage\n",
    "- Taille"
   ],
   "cell_type": "markdown",
   "metadata": {}
  },
  {
   "cell_type": "code",
   "execution_count": null,
   "metadata": {},
   "outputs": [],
   "source": [
    "tuple_nombres = (0, 1, 2, 3, 4, 5, 6, 7, 8, 9)\n",
    "print(tuple_nombres)\n",
    "print(tuple_nombres[3]) # 3\n",
    "print(tuple_nombres[3:8]) # 3 à 7\n",
    "print(tuple_nombres + (\"a\", \"b\", \"c\", \"d\")) # Nouveau tuple, donc pas une modification\n",
    "print('g' in tuple_nombres) # Contient: non\n",
    "print(len(tuple_nombres))"
   ]
  },
  {
   "source": [
    "#### Tuples: cas spéciaux\n",
    "- Pour créer un tuple d'un seul élément, on doit ajouter une virgule pour différencier avec des parenthèses\n",
    "  - `a = (3)` vs `b = (3,)`\n",
    "- On peut créer un tuple sans mettre de parenthèses dans la plupart des cas\n",
    "  - `c = 1, 2, 3`\n",
    "- On peut déconstruire un tuple avec une assignation\n",
    "  - `d, e, f, g = (9, 8, 7, 6)`\n",
    "- On peut utiliser le truc précédent pour inverser des variables\n",
    "  - `f, g = g, f`"
   ],
   "cell_type": "markdown",
   "metadata": {}
  },
  {
   "cell_type": "code",
   "execution_count": null,
   "metadata": {},
   "outputs": [],
   "source": [
    "a = (3)\n",
    "print(a)\n",
    "b = (3,)\n",
    "print(b)\n",
    "c = 1, 2, 3\n",
    "print(c)\n",
    "d, e, f, g = (9, 8, 7, 6)\n",
    "print(d)\n",
    "print(e)\n",
    "print(\"## f et g\")\n",
    "print(f)\n",
    "print(g)\n",
    "f, g = g, f\n",
    "print(\"## Inversion de f et g\")\n",
    "print(f)\n",
    "print(g)"
   ]
  },
  {
   "source": [
    "### Dictionnaires: opérations de base\n",
    "Un dictionnaire sert à mapper une clé et une valeur. C'est un peu comme un tableau, mais au lieu d'utiliser des index numériques, on peut utiliser presque n'importe quoi comme index.\n",
    "- Ajout\n",
    "- Retrait\n",
    "- Accès\n",
    "- Contient\n",
    "- Clés\n",
    "- Valeurs\n",
    "- Items\n",
    "- Vider\n",
    "- Taille\n",
    "\n",
    "Les clés d'un dictionnaire doivent être des éléments immuables.\n",
    "- Nombres\n",
    "- String\n",
    "- Tuple\n",
    "- PAS une liste\n",
    "- PAS un autre dict\n",
    "Les valeurs peuvent être n'importe quoi.\n",
    "Une même clé ne peut pas se retrouver plusieurs fois dans un dict."
   ],
   "cell_type": "markdown",
   "metadata": {}
  },
  {
   "cell_type": "code",
   "execution_count": null,
   "metadata": {},
   "outputs": [],
   "source": [
    "dictionnaire = {\"test\": 2, 1: \"allo\"}\n",
    "print(dictionnaire)\n",
    "dictionnaire[\"nouveau\"] = 434 # Ajout\n",
    "print(dictionnaire)\n",
    "element = dictionnaire.pop(1) # Retrait par clé\n",
    "print(element)\n",
    "print(dictionnaire)\n",
    "print(dictionnaire[\"test\"]) # Accès par clé\n",
    "print(\"test\" in dictionnaire) # Contient par clé\n",
    "print(dictionnaire.keys()) # Clés\n",
    "print(dictionnaire.values()) # Valeurs\n",
    "print(dictionnaire.items()) # Items\n",
    "print(len(dictionnaire)) # Taille\n",
    "dictionnaire.clear() # Vider\n",
    "print(dictionnaire)"
   ]
  },
  {
   "source": [
    "### Ensembles: opérations de base\n",
    "Un ensemble est comme un dictionnaire avec seulement des clés. Les éléments doivent être immuables, et ils ne peuvent pas se retrouver plusieurs fois dans le set.\n",
    "\n",
    "- Ajout\n",
    "- Retrait\n",
    "- Contient\n",
    "- Union\n",
    "- Intersection\n",
    "- Différence\n",
    "- Vider\n",
    "- Taille"
   ],
   "cell_type": "markdown",
   "metadata": {}
  },
  {
   "cell_type": "code",
   "execution_count": null,
   "metadata": {},
   "outputs": [],
   "source": [
    "ensemble = set() # Si on veut le créer vide, pas le choix de faire comme ça, puisque {} crée un dict vide\n",
    "print(ensemble)\n",
    "ensemble = {1, \"allo\", (3, \"1\"), \"test\"} # Si on le crée avec des éléments, on peut utiliser {}\n",
    "ensemble.add(None) # Ajout\n",
    "print(ensemble) # On voit que les éléments ne garde pas un ordre spécifique\n",
    "ensemble.add(\"allo\") # On n'aura pas deux copies puisqu'un set ne peut qu'avoir des éléments uniques\n",
    "print(ensemble)\n",
    "ensemble.remove((3, '1')) # Retrait\n",
    "print(ensemble)\n",
    "print(1 in ensemble) # Contient: oui\n",
    "second_ensemble = {\"allo\", 23, False, (2,3), 1}\n",
    "print(second_ensemble)\n",
    "print(ensemble & second_ensemble) # Intersection: éléments communs\n",
    "print(ensemble | second_ensemble) # Union: combinaison des deux, sans doublons, évidemment\n",
    "print(ensemble - second_ensemble) # Différence: éléments dans le premier mais pas dans le second\n",
    "print(second_ensemble - ensemble) # La différence n'est pas commutative\n",
    "ensemble.clear() # Vider\n",
    "print(ensemble)\n",
    "print(len(second_ensemble)) # Taille\n",
    "print(second_ensemble)"
   ]
  },
  {
   "source": [
    "### None: une valeur spéciale\n",
    "La valeur None représente l'absence de valeur.\n",
    "\n",
    "None est comparé par identité, pas par égalité.\n",
    "- On utilise `is` au lieu de `==`\n",
    "\n",
    "### Comparaison par identité vs par égalité\n",
    "La comparaison par égalité vérifie que deux variables ont la même **valeur**.\n",
    "La comparaison par identité vérifie que deux variables ont une référence au même **objet**. "
   ],
   "cell_type": "markdown",
   "metadata": {}
  },
  {
   "cell_type": "code",
   "execution_count": null,
   "metadata": {},
   "outputs": [],
   "source": [
    "a = None\n",
    "print(a is None)\n",
    "print(a is not None)\n",
    "\n",
    "a = [\"allo\"]\n",
    "b = [\"allo\"]\n",
    "c = a # c devient a\n",
    "print(a == b) # Vrai, [\"allo\"] == [\"allo\"]\n",
    "print(a == c) # Vrai, [\"allo\"] == [\"allo\"]\n",
    "print(b == c) # Vrai, [\"allo\"] == [\"allo\"]\n",
    "print(a is b) # Faux, a n'est pas la même liste que b\n",
    "print(a is c) # Vrai, a est bien la même liste que c\n",
    "print(b is c) # Faux, b n'est pas la même liste que c\n",
    "a.append(\"test\")\n",
    "print(a)\n",
    "print(b)\n",
    "print(c) # On voit bien que a et c sont la même liste"
   ]
  },
  {
   "source": [
    "### Objets: en Python, tout est un objet!\n",
    "\n",
    "Un objet est simplement un groupement entre des données et des opérations sur ces données. En Python, tout est un objet.\n",
    "Par exemple, une liste est un bon exemple d'objet.\n",
    "- Les données sont les informations contenues dans la liste.\n",
    "- Les opérations sont accessibles avec le point `.`\n",
    "- Pour la liste, `clear`, `append` et `pop` sont des exemples d'opérations."
   ],
   "cell_type": "markdown",
   "metadata": {}
  },
  {
   "source": [
    "### Assignations combinées aux opérateurs\n",
    "\n",
    "La plupart des opérateurs binaires (qui prennent deux opérandes, comme `+`, `-`, `&`, etc.) qui ne sont pas des opérateurs de comparaison peuvent être combinés avec l'opérateur d'assignation pour raccourcir certaines opérations. Dans ce cas, la première opérande est considérée comme la valeur actuelle de la variable, et le résultat est réassigné à la variable. Par exemple, pour incrémenter un entier de 2:\n",
    "\n",
    "```\n",
    "nombre_entier = 4\n",
    "nombre_entier += 2\n",
    "# Ici, nombre_entier vaut 6\n",
    "```"
   ],
   "cell_type": "markdown",
   "metadata": {}
  },
  {
   "cell_type": "code",
   "execution_count": null,
   "metadata": {},
   "outputs": [],
   "source": [
    "nombre_entier = 4\n",
    "nombre_entier += 2\n",
    "print(nombre_entier)\n",
    "\n",
    "booleen = True\n",
    "booleen &= False\n",
    "print(booleen) # False, car True ET False donne False\n",
    "\n",
    "nombre_entier **= 2\n",
    "print(nombre_entier) # 36"
   ]
  }
 ]
}