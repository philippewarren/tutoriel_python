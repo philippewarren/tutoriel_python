{
 "metadata": {
  "language_info": {
   "codemirror_mode": {
    "name": "ipython",
    "version": 3
   },
   "file_extension": ".py",
   "mimetype": "text/x-python",
   "name": "python",
   "nbconvert_exporter": "python",
   "pygments_lexer": "ipython3",
   "version": "3.9.5"
  },
  "orig_nbformat": 2,
  "kernelspec": {
   "name": "python395jvsc74a57bd019a9e2250981a50c8d3a3d12972bc8b4095913f61c1fe8c3c9c8b6c0d63cf46a",
   "display_name": "Python 3.9.5 64-bit"
  }
 },
 "nbformat": 4,
 "nbformat_minor": 2,
 "cells": [
  {
   "source": [
    "## Décorateurs\n",
    "Les décorateurs sont un concept relativement poussé en Python, qui utilise le fait que les fonctions sont des objets comme les autres.\n",
    "\n",
    "En effet, la syntaxe\n",
    "```python\n",
    "def nom_de_fonction(<params>):\n",
    "    <corps>\n",
    "```\n",
    "est l'équivalent théorique de cette affirmation (théorique, car la classe `function` ne peut pas être utilisée ainsi):\n",
    "```python\n",
    "nom_de_fonction = function(<params>, <corps>)\n",
    "```\n",
    "\n",
    "En effet, le nom donné à la fonction devient une façon de l'identifier.\n",
    "\n",
    "Comme les fonctions sont des objets en Python, elle peuvent aussi être passées en argument à d'autres fonctions."
   ],
   "cell_type": "markdown",
   "metadata": {}
  },
  {
   "cell_type": "code",
   "execution_count": null,
   "metadata": {},
   "outputs": [],
   "source": [
    "def dire_bonjour(nom):\n",
    "    print(f\"Bonjour {nom}!\")\n",
    "\n",
    "def dire_bye(nom):\n",
    "    print(f\"Bye bye {nom}!\")\n",
    "\n",
    "def invoquer_fonction(fonction, argument): # La fonction reçoit une autre fonction en paramètre\n",
    "    return fonction(argument) # La fonction reçue en paramètre est invoquée, et sa valeur de retour est retournée\n",
    "\n",
    "invoquer_fonction(dire_bonjour, \"Bob\") # On peut saluer Bob\n",
    "invoquer_fonction(dire_bye, \"Gérard\") # Ou dire au revoir à Gérard\n",
    "print(invoquer_fonction(len, [1, 2, 3, 4, 5])) # Ou obtenir la longueur d'une liste!"
   ]
  },
  {
   "source": [
    "### Créer une fonction qui modifie le comportement d'une autre fonction\n",
    "Imaginons que j'aie une fonction `somme` et une fonction `produit`, qui prennent un itérable en paramètre et calculent la somme ou le produit de tous ses éléments.\n",
    "\n",
    "\n",
    "\n",
    "Or, dans les deux cas, si l'itérable est vide, je souhaite afficher un message d'erreur dans la console, et retourner `None`.\n",
    "Je pourrais ajouter l'extrait de code suivant au début de chaque fonction:\n",
    "```python\n",
    "if len(iterable) == 0:\n",
    "    print(\"L'itérable est vide!\")\n",
    "    return None\n",
    "```\n",
    "Or, cela ferait de la duplication de code, ce qui est plus difficile à maintenir.\n",
    "Je peux toutefois utiliser une méthode dynamique pour y arriver:"
   ],
   "cell_type": "markdown",
   "metadata": {}
  },
  {
   "cell_type": "code",
   "execution_count": null,
   "metadata": {},
   "outputs": [],
   "source": [
    "from typing import Iterable\n",
    "\n",
    "def somme(iterable: Iterable):\n",
    "    somme = 0\n",
    "    for val in iterable:\n",
    "        somme += val\n",
    "    return somme\n",
    "\n",
    "def produit(iterable: Iterable):\n",
    "    produit = 1\n",
    "    for val in iterable:\n",
    "        produit *= val\n",
    "    return produit\n",
    "\n",
    "def creer_verifier_vide(param_fonction): # On crée une fonction qui reçoit une fonction en argument\n",
    "\n",
    "    def nouvelle_fonction(iterable: Iterable): # On crée une nouvelle fonction, qui viendra remplacer la fonction reçue en argument\n",
    "        if len(iterable) == 0: # On fait la vérification sur l'argument `iterable`\n",
    "            print(\"L'itérable est vide!\")\n",
    "            return None\n",
    "        else:\n",
    "            return param_fonction(iterable) # S'il n'est pas vide, on invoque la fonction reçue\n",
    "    \n",
    "    return nouvelle_fonction # On retourne notre nouvelle fonction"
   ]
  },
  {
   "source": [
    "Le code ci-dessous crée les deux fonctions `somme` et `produit`, ainsi qu'une fonction `creer_verifier_vide` qui prend une fonction en argument, lui greffe la logique de vérification de la taille de l'itérable, et s'il n'est pas vide, invoque la fonction initiale avec l'itérable reçu comme argument, et retourne son résultat. Or, la fonction `creer_verifier_vide` retourne la fonction `nouvelle_fonction`, ce qui nous permet de l'assigner à une variable, et de l'utiliser.\n",
    "\n",
    "Ainsi, si l'itérable n'est pas vide, la fonction `nouvelle_fonction` aura le même comportement que la fonction `param_fonction`. Par contre, si l'itérable est vide, elle affichera le message d'erreur dans la console, et retournera `None`.\n",
    "\n",
    "On peut donc créer nos nouvelles fonctions:"
   ],
   "cell_type": "markdown",
   "metadata": {}
  },
  {
   "cell_type": "code",
   "execution_count": null,
   "metadata": {},
   "outputs": [],
   "source": [
    "somme_verif = creer_verifier_vide(somme)\n",
    "produit_verif = creer_verifier_vide(produit)\n",
    "\n",
    "print(f\"somme pas vide: {somme([1,2,3,4])}\")\n",
    "print(f\"somme_verif pas vide: {somme_verif([1,2,3,4])}\")\n",
    "print(f\"somme vide: {somme([])}\")\n",
    "print(f\"somme_verif vide: {somme_verif([])}\")\n",
    "print(\"-\"*30)\n",
    "print(f\"produit pas vide: {produit([1,2,3,4])}\")\n",
    "print(f\"produit_verif pas vide: {produit_verif([1,2,3,4])}\")\n",
    "print(f\"produit vide: {produit([])}\")\n",
    "print(f\"produit_verif vide: {produit_verif([])}\")"
   ]
  },
  {
   "source": [
    "On a maintenant une version des fonctions `somme` et `produit` avec la vérification voulue!\n",
    "Et comme on a englobé la fonctionnalité dans une autre fonction, `creer_verifier_vide`, on pourrait ajouter la même vérification à plusieurs autres fonctions très facilement!"
   ],
   "cell_type": "markdown",
   "metadata": {}
  },
  {
   "cell_type": "code",
   "execution_count": null,
   "metadata": {},
   "outputs": [],
   "source": [
    "def concatener(iterable: Iterable[str]):\n",
    "    chaine = \"\"\n",
    "    for val in iterable:\n",
    "        chaine = f\"{chaine}{val}\"\n",
    "    return chaine\n",
    "\n",
    "concatener_verif = creer_verifier_vide(concatener)\n",
    "\n",
    "print(f\"concatener pas vide: {repr(concatener(['a','l','l','o']))}\")\n",
    "print(f\"concatener_verif pas vide: {repr(concatener_verif(['a','l','l','o']))}\")\n",
    "print(f\"concatener vide: {repr(concatener([]))}\")\n",
    "print(f\"concatener_verif vide: {repr(concatener_verif([]))}\")"
   ]
  },
  {
   "source": [
    "Maintenant, si on ne souhaite pas garder la version sans la vérification, on peut simplement assigner la nouvelle version à l'ancien nom!"
   ],
   "cell_type": "markdown",
   "metadata": {}
  },
  {
   "cell_type": "code",
   "execution_count": null,
   "metadata": {},
   "outputs": [],
   "source": [
    "somme = creer_verifier_vide(somme)\n",
    "\n",
    "print(f\"somme remplacée pas vide: {somme([1,2,3,4])}\")\n",
    "print(f\"somme remplacée vide: {somme([])}\")"
   ]
  },
  {
   "source": [
    "#### Décorateur et la syntaxe `@`\n",
    "Notre fonction `creer_verifier_vide` est un décorateur: elle **décore** une autre fonction, en lui greffant des fonctionnalités avant et/ou après.\n",
    "\n",
    "Maintenant, il existe une syntaxe équivalente à l'assignation\n",
    "```python\n",
    "def func(<args>):\n",
    "    <corps>\n",
    "\n",
    "func = decorateur(func)\n",
    "```\n",
    "\n",
    "C'est la syntaxe avec le `@`:\n",
    "```python\n",
    "@decorateur\n",
    "def func(<args>):\n",
    "    <corps>\n",
    "```"
   ],
   "cell_type": "markdown",
   "metadata": {}
  },
  {
   "cell_type": "code",
   "execution_count": null,
   "metadata": {},
   "outputs": [],
   "source": [
    "@creer_verifier_vide # On utilise la syntaxe de décorateur avec `@`\n",
    "def creer_tuple(iterable: Iterable):\n",
    "    liste = []\n",
    "    for val in iterable:\n",
    "        liste.append(val)\n",
    "    return tuple(liste)\n",
    "\n",
    "print(f\"creer_tuple remplacé pas vide: {creer_tuple([1,2,3,4])}\")\n",
    "print(f\"creer_tuple remplacé vide: {creer_tuple([])}\")"
   ]
  },
  {
   "source": [
    "### Décorateur avec des paramètres\n",
    "Pour créer un décorateur prenant des paramètres, on utilise trois niveaux de fonctions imbriquées:\n",
    "1. Prend les arguments que l'on veut en paramètres, et retourne un **décorateur**\n",
    "2. Prend une fonction en paramètre, et retourne une **nouvelle fonction**\n",
    "3. Décore une fonction, et fait office de nouvelle fonction"
   ],
   "cell_type": "markdown",
   "metadata": {}
  },
  {
   "cell_type": "code",
   "execution_count": null,
   "metadata": {},
   "outputs": [],
   "source": [
    "def creer_verifier_vide_message(message): # On crée une fonction qui capture nos paramètres\n",
    "    def decorateur(param_fonction):\n",
    "        def nouvelle_fonction(iterable: Iterable): # On crée une nouvelle fonction, qui viendra remplacer la fonction reçue en argument\n",
    "            if len(iterable) == 0: # On fait la vérification sur l'argument `iterable`\n",
    "                print(f\"Voici mon message: <{message}>\") # On affiche le message reçu en argument au premier niveau\n",
    "                return None\n",
    "            else:\n",
    "                return param_fonction(iterable) # S'il n'est pas vide, on invoque la fonction reçue\n",
    "        \n",
    "        return nouvelle_fonction # On retourne notre nouvelle fonction\n",
    "    return decorateur # On retourne le décorateur\n",
    "\n",
    "@creer_verifier_vide_message(\"La taille de l'itérable est de 0!\")\n",
    "def creer_set(iterable: Iterable):\n",
    "    mon_set = set()\n",
    "    for val in iterable:\n",
    "        mon_set.add(val)\n",
    "\n",
    "    return mon_set\n",
    "\n",
    "print(f\"creer_set remplacé pas vide: {creer_set([1,2,3,4])}\")\n",
    "print(f\"creer_set remplacé vide: {creer_set([])}\")"
   ]
  },
  {
   "source": [
    "### Conserver les attributs avec `functools.wraps`\n",
    "L'utilisation d'un décorateur remplace certains attributs de la fonction. Parfois, on aimerait garder ces informations."
   ],
   "cell_type": "markdown",
   "metadata": {}
  },
  {
   "cell_type": "code",
   "execution_count": null,
   "metadata": {},
   "outputs": [],
   "source": [
    "def fonction_au_nom_genial(iterable: Iterable):\n",
    "    \"\"\"La documentation de ma fonction au nom génial est ici!\"\"\"\n",
    "    print(\"La longueur de mon itérable est:\", len(iterable))\n",
    "    return len(iterable)\n",
    "\n",
    "fonction_au_nom_genial_2 = creer_verifier_vide(fonction_au_nom_genial)\n",
    "\n",
    "print(fonction_au_nom_genial.__name__)\n",
    "print(fonction_au_nom_genial.__doc__)\n",
    "print(\"-\"*60)\n",
    "print(fonction_au_nom_genial_2.__name__)\n",
    "print(fonction_au_nom_genial_2.__doc__)\n"
   ]
  },
  {
   "source": [
    "On remarque que le nom et la documentation, par exemple, sont perdues. Le phénomène est le même si on utilise directement la syntaxe avec `@`."
   ],
   "cell_type": "markdown",
   "metadata": {}
  },
  {
   "cell_type": "code",
   "execution_count": null,
   "metadata": {},
   "outputs": [],
   "source": [
    "@creer_verifier_vide\n",
    "def fonction_au_nom_magnifique(iterable: Iterable):\n",
    "    \"\"\"La documentation de ma fonction au nom magnifique est là!\"\"\"\n",
    "    print(\"La longueur de mon itérable est:\", len(iterable))\n",
    "    return len(iterable)\n",
    "\n",
    "print(fonction_au_nom_magnifique.__name__)\n",
    "print(fonction_au_nom_magnifique.__doc__)"
   ]
  },
  {
   "source": [
    "On peut remédier à la situation en ajoutant un élément dans la définition de notre décorateur: on peut identifier notre `nouvelle_fonction` comme un enrobage de la fonction initiale, à l'aide... d'un décorateur!\n",
    "\n",
    "En effet, le décorateur `functools.wraps` prend en paramètre la fonction d'origine, et permet de facilement transférer les informations de la fonction initiale. "
   ],
   "cell_type": "markdown",
   "metadata": {}
  },
  {
   "cell_type": "code",
   "execution_count": null,
   "metadata": {},
   "outputs": [],
   "source": [
    "from functools import wraps\n",
    "\n",
    "def creer_verifier_vide(param_fonction): # On crée une fonction qui reçoit une fonction en argument\n",
    "\n",
    "    @wraps(param_fonction) # Ici, on précise que la fonction enrobe la fonction précédente\n",
    "    def nouvelle_fonction(iterable: Iterable): # On crée une nouvelle fonction, qui viendra remplacer la fonction reçue en argument\n",
    "        if len(iterable) == 0: # On fait la vérification sur l'argument `iterable`\n",
    "            print(\"L'itérable est vide!\")\n",
    "            return None\n",
    "        else:\n",
    "            return param_fonction(iterable) # S'il n'est pas vide, on invoque la fonction reçue\n",
    "    \n",
    "    return nouvelle_fonction # On retourne notre nouvelle fonction\n",
    "\n",
    "@creer_verifier_vide\n",
    "def fonction_au_nom_parfait(iterable: Iterable):\n",
    "    \"\"\"La documentation de ma fonction au nom parfait est invincible!\"\"\"\n",
    "    print(\"La longueur de mon itérable est:\", len(iterable))\n",
    "    return len(iterable)\n",
    "\n",
    "print(fonction_au_nom_parfait.__name__) # Les valeurs affichées seront les bonnes\n",
    "print(fonction_au_nom_parfait.__doc__)"
   ]
  }
 ]
}