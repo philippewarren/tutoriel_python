{
 "metadata": {
  "language_info": {
   "codemirror_mode": {
    "name": "ipython",
    "version": 3
   },
   "file_extension": ".py",
   "mimetype": "text/x-python",
   "name": "python",
   "nbconvert_exporter": "python",
   "pygments_lexer": "ipython3",
   "version": "3.9.5"
  },
  "orig_nbformat": 2,
  "kernelspec": {
   "name": "python395jvsc74a57bd019a9e2250981a50c8d3a3d12972bc8b4095913f61c1fe8c3c9c8b6c0d63cf46a",
   "display_name": "Python 3.9.5 64-bit"
  }
 },
 "nbformat": 4,
 "nbformat_minor": 2,
 "cells": [
  {
   "source": [
    "## Fonctions en Python\n",
    "\n",
    "En Python, les fonctions sont des objets comme les autres. On peut donc les assigner à des variables, par exemple."
   ],
   "cell_type": "markdown",
   "metadata": {}
  },
  {
   "cell_type": "code",
   "execution_count": null,
   "metadata": {},
   "outputs": [],
   "source": [
    "nouvelle_fonction_print = print # Noter qu'on ne met pas de parenthèses si on ne veut pas invoquer la fonction\n",
    "nouvelle_fonction_print(\"allo!\") # On a créé une copie de `print`, qui s'utilise de la même manière\n",
    "print(\"le monde!\") # La fonction d'origine existe encore, on a fait une copie, pas un changement de nom"
   ]
  },
  {
   "source": [
    "### Invocation de fonctions, paramètres et valeur de retour\n",
    "\n",
    "Pour invoquer une fonction, on utilise les parenthèses `()`. À l'intérieur, on peut passe zéro ou plus de zéro **arguments** à la fonction. Ces arguments doivent correspondre aux **paramètres** de la fonction. Une fois exécutée, la fonction **retourne** une valeur. Si la valeur de retour de la fonction n'est pas importante, la fonction retourne `None`.\n",
    "\n",
    "Par exemple, la fonction `len` retourne un nombre, mais la fonction `print` affiche à l'écran, et retourne `None` (on n'utilise pas la fonction `print` pour obtenir de l'information)."
   ],
   "cell_type": "markdown",
   "metadata": {}
  },
  {
   "cell_type": "code",
   "execution_count": null,
   "metadata": {},
   "outputs": [],
   "source": [
    "retour_len = len(\"allo\") # 4\n",
    "retour_print = print(\"allo\") # None\n",
    "\n",
    "print(retour_len)\n",
    "print(retour_print)"
   ]
  },
  {
   "source": [
    "### Passer des arguments à une fonction\n",
    "Les fonctions peuvent accepter différents arguments. Parfois, elles ont des arguments facultatifs, c'est-à-dire qu'une valeur par défaut leur est attribuée si on ne le précise pas.\n",
    "\n",
    "On en a vu quelques unes:\n",
    "- range() commence à 0 avec un bond de 1 par défaut\n",
    "- enumerate() commence à 0 par défaut\n",
    "- print() ajoute un retour de ligne (un *enter*) à la string qu'on lui demande d'afficher, par défaut.\n",
    "\n",
    "#### Les arguments par mots-clés\n",
    "Quoi? On peut changer le retour de ligne ajouté par `print`? Comment?\n",
    "\n",
    "Python permet de spécifier les arguments des fonctions en utilisant le nom du paramètre. Parfois, cela permet d'être plus précis, mais d'autres fois, c'est la seule façon de spécifier certains arguments."
   ],
   "cell_type": "markdown",
   "metadata": {}
  },
  {
   "cell_type": "code",
   "execution_count": null,
   "metadata": {},
   "outputs": [],
   "source": [
    "print(\"allo\", end='') # On remplace le retour de ligne par une chaîne vide\n",
    "print(\"test\") # Le second print écris donc sur la même ligne"
   ]
  },
  {
   "source": [
    "### Un nombre variable d'arguments\n",
    "Certaines fonctions, comme `print`, peut accepter un nombre variable d'arguments. Par exemple, dans le cas de print, ils seront tous affichés à la suite, séparés par un espace."
   ],
   "cell_type": "markdown",
   "metadata": {}
  },
  {
   "cell_type": "code",
   "execution_count": null,
   "metadata": {},
   "outputs": [],
   "source": [
    "print(\"Ceci\", \"est\", 1, \"test!\")"
   ]
  },
  {
   "source": [
    "### Créer ses propres fonctions\n",
    "Pour créer une fonction, on utilise le mot clé `def`, suivi du nom de la fonction, des paramètres entre parenthèses, et d'un deux-point. Comme pour les variables, les noms de fonctions sont en \"snake_case\" par défaut. Comme pour les `if`, `for` et `while`, c'est le niveau d'indentation qui définit la limite de la fonction. La valeur de retour est indiquée par le mot-clé `return`, suivi d'une expression. Si `return` est omis, la fonction retournera `None` par défaut.\n",
    "\n",
    "```python\n",
    "def ajouter(nombre_1, nombre_2):\n",
    "    return nombre_1 + nombre_2\n",
    "```\n",
    "\n",
    "On peut aussi mettre un `return` pour une fonction qui retourne `None` de toute façon. Il suffit de ne pas mettre d'expression après le `return`.\n",
    "\n",
    "```python\n",
    "def afficher_deux_trucs(truc_1, truc_2):\n",
    "    print(truc_1, truc_2)\n",
    "    return\n",
    "```\n",
    "\n",
    "On peut mettre plusieurs `return` dans une fonction, mais dès que l'un d'entre eux est atteint, l'exécution de la fonction s'arrête."
   ],
   "cell_type": "markdown",
   "metadata": {}
  },
  {
   "cell_type": "code",
   "execution_count": null,
   "metadata": {},
   "outputs": [],
   "source": [
    "def ajouter(nombre_1, nombre_2):\n",
    "    return nombre_1 + nombre_2\n",
    "\n",
    "print(ajouter(1, 3))\n",
    "\n",
    "def afficher_deux_trucs(truc_1, truc_2):\n",
    "    print(truc_1, truc_2)\n",
    "    return\n",
    "\n",
    "retour = afficher_deux_trucs(\"allo\", 23)\n",
    "print(retour)\n",
    "\n",
    "def afficher_et_retourner_truc(test, truc):\n",
    "    if test:\n",
    "        print(truc)\n",
    "        return truc\n",
    "    else:\n",
    "        return\n",
    "\n",
    "retour_vrai = afficher_et_retourner_truc(True, \"allo\")\n",
    "print(retour_vrai)\n",
    "retour_faux = afficher_et_retourner_truc(False, \"test\")\n",
    "print(retour_faux)"
   ]
  },
  {
   "source": [
    "### Fonctions imbriquées\n",
    "Python permet de définir une fonction à l'intérieur d'une fonction, à l'intérieur d'une fonction... aussi loin que l'on veut!"
   ],
   "cell_type": "markdown",
   "metadata": {}
  },
  {
   "cell_type": "code",
   "execution_count": null,
   "metadata": {},
   "outputs": [],
   "source": [
    "def externe():\n",
    "    print(\"Avant interne\")\n",
    "\n",
    "    def interne():\n",
    "        print(\"Dans interne\")\n",
    "    \n",
    "    print(\"Après interne, mais avant son invocation\")\n",
    "    \n",
    "    interne()\n",
    "    print(\"Après invocation de interne\")\n",
    "\n",
    "print(\"Après externe, mais avant son invocation\")\n",
    "externe()\n",
    "# interne() # N'existe pas ici!"
   ]
  },
  {
   "source": [
    "### Annotations de type\n",
    "Les annotations de type servent à donner de l'information supplémentaire sur l'utilisation d'une fonction. Elles permettent aux utilisateur de la fonction de savoir quels arguments sont valides, et le type de valeur de retour attendu pour une fonction donnée.\n",
    "De plus, les éditeurs comme Visual Studio Code utilisent cette information pour proposer des suggestions plus pertinentes, en fonction du type des variables. Il est même possible de configurer Visual Studio Code pour qu'il affiche des erreurs pour les cas où un argument d'un type non supporté soit passé à une fonction.\n",
    "\n",
    "Pour annoter le type des variables, on ajoute `:` après le nom de la variable, suivi du type de variable.\n",
    "Pour annoter le type de valeur de retour, on ajoute une flèche `->` après la parenthèse qui ferme la liste des paramètres, puis le type de retour."
   ],
   "cell_type": "markdown",
   "metadata": {}
  },
  {
   "cell_type": "code",
   "execution_count": null,
   "metadata": {},
   "outputs": [],
   "source": [
    "def addition_nombres_entiers(nombre_1: int, nombre_2: int) -> int:\n",
    "    return nombre_1 + nombre_2\n",
    "\n",
    "print(addition_nombres_entiers(24, 432.431)) # Les annotations ne sont que de l'information supplémentaire, elles n'ajoutent pas de vrai restriction. Ici, on voit que ça fonctionne avec un float, même si on a dit que c'était des int."
   ]
  },
  {
   "source": [
    "#### Annotations du futur\n",
    "Quand on utilise beaucoup les annotations, il vaut mieux importer les annotations du futur, qui sont beaucoup plus pratiques.\n",
    "\n",
    "```from __future__ import annotations```\n",
    "\n",
    "Les `__future__` sont des fonctionnalités prévues pour bientôt dans Python, mais qui en attendant, sont accessibles seulement si on choisit de les utiliser. Il existe peu de `__future__`, la liste complète est disponible sur le site web de Python. Actuellement (depuis Python 3.7 mais avant Python 3.10), `annotations` est le plus intéressant.\n",
    "\n",
    "#### Annotations pour les conteneurs\n",
    "Il est possible d'annoter le type de variables dans un conteneur. Par exemple, si une fonction retourne une liste de `str`, on peut le spécifier ainsi:\n",
    "\n",
    "```python\n",
    "def faire_une_liste_de_str(str_1: str, str_2: str,str_3: str) -> list[str]:\n",
    "    return [str_1, str_2, str_3]\n",
    "```"
   ],
   "cell_type": "markdown",
   "metadata": {}
  },
  {
   "cell_type": "code",
   "execution_count": null,
   "metadata": {},
   "outputs": [],
   "source": [
    "from __future__ import annotations\n",
    "\n",
    "def faire_une_liste_de_str(str_1: str, str_2: str, str_3: str) -> list[str]:\n",
    "    return [str_1, str_2, str_3]\n",
    "\n",
    "liste = faire_une_liste_de_str(\"allo\", \"le\", \"monde!\")\n",
    "print(liste)"
   ]
  },
  {
   "source": [
    "#### Annotations spéciales\n",
    "Certaines fonctionnalités supplémentaires des annotations de type sont disponibles dans le module `typing`.\n",
    "Les plus utiles sont les suivantes:\n",
    "- Union -> Indique qu'un type doit appartenir à un certain ensemble\n",
    "```\n",
    "def truc() -> Union[int, float]: ...\n",
    "```\n",
    "- Optional -> Indique qu'un type est soit le type indiqué, soit `None`\n",
    "```\n",
    "def truc() -> Optional[int]: ...\n",
    "# Revient à\n",
    "def truc() -> Union[int, None]: ...\n",
    "```\n",
    "- Any -> Indique qu'un type est quelconque, équivalent à ne pas mettre d'annotation\n",
    "```\n",
    "def truc() -> Any: ...\n",
    "```"
   ],
   "cell_type": "markdown",
   "metadata": {}
  },
  {
   "source": [
    "### Arguments par mot clé dans nos propres fonctions\n",
    "Avec Python, tous les arguments pouvant être utilisés sans mot-clé peuvent aussi l'être avec un mot clé, automatiquement!"
   ],
   "cell_type": "markdown",
   "metadata": {}
  },
  {
   "cell_type": "code",
   "execution_count": null,
   "metadata": {},
   "outputs": [],
   "source": [
    "def afficher_en_ordre(item_1, item_2, item_3, item_4):\n",
    "    print(item_1, item_2, item_3, item_4)\n",
    "\n",
    "afficher_en_ordre(item_4=\"monde!\", item_2=\"tout\", item_1=\"Allo\", item_3=\"le\")"
   ]
  },
  {
   "source": [
    "### Valeurs d'arguments par défaut\n",
    "Il est très simple d'ajouter une valeur par défaut à un paramètre. Il suffit d'ajouter `= <valeur>` après le nom du paramètre dans la définition de la fonction.\n",
    "\n",
    "```python\n",
    "def addition_par_defaut(nombre_1: int = 3, nombre_2: int = 5) -> int:\n",
    "    return nombre_1 + nombre_2\n",
    "```"
   ],
   "cell_type": "markdown",
   "metadata": {}
  },
  {
   "cell_type": "code",
   "execution_count": null,
   "metadata": {},
   "outputs": [],
   "source": [
    "def addition_par_defaut(nombre_1: int = 3, nombre_2: int = 5) -> int:\n",
    "    return nombre_1 + nombre_2\n",
    "\n",
    "print(addition_par_defaut()) # 3 + 5 = 8\n",
    "print(addition_par_defaut(12)) # 12 + 5 = 17\n",
    "print(addition_par_defaut(nombre_2=23)) # 3 + 23 = 26"
   ]
  },
  {
   "source": [
    "### Documenter une fonction avec une `docstring`\n",
    "Il est possible de documenter une fonction avec une `docstring`, soit un texte qui explique le but de la fonction et son utilisation. Cette information est accessible dans Visual Studio Code quand on tape le nom de la fonction, ou qu'on place notre curseur sur un appel de la fonction.\n",
    "Une `docstring` prend la forme d'une chaîne de caractères entre triples guillemets, juste en dessous de la signature de la fonction.\n",
    "\n",
    "La `docstring` est aussi accessible avec la fonction `help` de Python, qui affiche l'aide en lien avec la fonction."
   ],
   "cell_type": "markdown",
   "metadata": {}
  },
  {
   "cell_type": "code",
   "execution_count": null,
   "metadata": {},
   "outputs": [],
   "source": [
    "def addition(nombre_1: int, nombre_2: int) -> int:\n",
    "    \"\"\"Calcule la somme de deux entiers, et retourne cette somme\"\"\"\n",
    "    return nombre_1 + nombre_2\n",
    "\n",
    "help(addition)"
   ]
  }
 ]
}