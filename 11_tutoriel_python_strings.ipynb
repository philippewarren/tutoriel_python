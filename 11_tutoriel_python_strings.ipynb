{
 "metadata": {
  "language_info": {
   "codemirror_mode": {
    "name": "ipython",
    "version": 3
   },
   "file_extension": ".py",
   "mimetype": "text/x-python",
   "name": "python",
   "nbconvert_exporter": "python",
   "pygments_lexer": "ipython3",
   "version": "3.9.5"
  },
  "orig_nbformat": 2,
  "kernelspec": {
   "name": "python395jvsc74a57bd019a9e2250981a50c8d3a3d12972bc8b4095913f61c1fe8c3c9c8b6c0d63cf46a",
   "display_name": "Python 3.9.5 64-bit"
  }
 },
 "nbformat": 4,
 "nbformat_minor": 2,
 "cells": [
  {
   "source": [
    "## Travailler avec des chaînes de caractères\n",
    "\n",
    "### Séparer une chaîne de caractères\n",
    "\n",
    "On peut facilement décomposer une chaîne de caractères en une liste de mots à l'aide de la méthode `split`."
   ],
   "cell_type": "markdown",
   "metadata": {}
  },
  {
   "cell_type": "code",
   "execution_count": null,
   "metadata": {},
   "outputs": [],
   "source": [
    "from pprint import pprint\n",
    "pprint(\"Ceci est une longue chaîne de caractères composée de plusieurs mots!\".split())"
   ]
  },
  {
   "source": [
    "On peut préciser le caractère servant de séparateur, si on veut utiliser autre chose que les espaces blancs."
   ],
   "cell_type": "markdown",
   "metadata": {}
  },
  {
   "cell_type": "code",
   "execution_count": null,
   "metadata": {},
   "outputs": [],
   "source": [
    "from pprint import pprint\n",
    "pprint(\"Ceci_est_une_longue_chaîne_de_caractères_composée_de_plusieurs_mots!\".split()) # Donnera un seul élément\n",
    "print(\"-\"*80)\n",
    "pprint(\"Ceci_est_une_longue_chaîne_de_caractères_composée_de_plusieurs_mots!\".split('_')) # Donnera le résultat voulu"
   ]
  },
  {
   "source": [
    "On peut aussi spécifier un nombre maximal de coupures. Dans ce cas, on peut partir de la fin à l'aide de la méthode `rsplit`."
   ],
   "cell_type": "markdown",
   "metadata": {}
  },
  {
   "cell_type": "code",
   "execution_count": null,
   "metadata": {},
   "outputs": [],
   "source": [
    "pprint(\"Ceci est une longue chaîne de caractères composée de plusieurs mots!\".split(maxsplit=3)) # Donnera un seul élément\n",
    "print(\"-\"*80)\n",
    "pprint(\"Ceci est une longue chaîne de caractères composée de plusieurs mots!\".rsplit(maxsplit=3)) # Donnera un seul élément"
   ]
  },
  {
   "source": [
    "#### Séparer une texte en lignes\n",
    "On peut utiliser la méthode `splitlines` pour séparer un texte en utilisant le retour de ligne comme séparateur. "
   ],
   "cell_type": "markdown",
   "metadata": {}
  },
  {
   "cell_type": "code",
   "execution_count": null,
   "metadata": {},
   "outputs": [],
   "source": [
    "texte = \\\n",
    "\"\"\"Voici un long texte.\n",
    "Il est composé de plusieurs lignes.\n",
    "On pourra le séparer en lignes par la suite.\n",
    "En passant, on peut utiliser une barre oblique inversée\n",
    "pour poursuivre une déclaration Python sur la ligne suivante.\n",
    "Intéressant, non?\n",
    "On peut aussi utiliser le triple guillement,\n",
    "comme pour les docstrings, mais pour faire une longue\n",
    "chaîne de caractères qui prend plusieurs lignes.\"\"\"\n",
    "\n",
    "pprint(tuple(reversed(texte.splitlines()))) # On affiche les lignes dans le mauvais sens, pour le plaisir"
   ]
  },
  {
   "source": [
    "### Retirer les espaces blancs\n",
    "\n",
    "Parfois, on veut retirer les espaces blancs d'une chaîne de caractères, pour en faciliter le traitement."
   ],
   "cell_type": "markdown",
   "metadata": {}
  },
  {
   "cell_type": "code",
   "execution_count": null,
   "metadata": {},
   "outputs": [],
   "source": [
    "chaine = \"              Allo le monde!               \"\n",
    "print(\"Ho!\", chaine, \"Hey!\") # Les espaces peuvent nous déranger\n",
    "\n",
    "chaine_sans_espaces = chaine.strip() # On retire tous les espaces inutiles au début et à la fin\n",
    "print(\"Ho!\", chaine_sans_espaces, \"Hey!\")\n",
    "\n",
    "\n",
    "chaine_sans_espaces_a_la_fin = chaine.rstrip() # On retire tous les espaces inutiles à la fin seulement\n",
    "print(\"Ho!\", chaine_sans_espaces_a_la_fin, \"Hey!\")\n",
    "\n",
    "chaine_sans_espaces_au_debut = chaine.lstrip() # On retire tous les espaces inutiles au début et à la fin seulement\n",
    "print(\"Ho!\", chaine_sans_espaces_au_debut, \"Hey!\")\n",
    "\n",
    "# On peut aussi enlever d'autres caractères, et même plusieurs caractères\n",
    "chaine_2 = \"__.;;,,.,_;,Test!__;;;..,.,__;;,__\"\n",
    "print(chaine_2.strip(\"_,.;\"))"
   ]
  },
  {
   "source": [
    "### Les caractères d'échappement\n",
    "Les caractères d'échappement sont des caractères spéciaux qui ont une signification particulière.\n",
    "Les plus importants sont listés dans le tableau suivant.\n",
    "\n",
    "<table>\n",
    "    <thead>\n",
    "    <style>\n",
    "      table,\n",
    "      th,\n",
    "      td {\n",
    "        padding: 8px 12px;\n",
    "        border: 1px solid;\n",
    "        border-collapse: collapse;\n",
    "      }\n",
    "    </style>\n",
    "        <tr>\n",
    "            <th><strong>Caractère</strong></th>\n",
    "            <th><strong>Effet</strong></th>\n",
    "        </tr>\n",
    "    </thead>\n",
    "    <tbody>\n",
    "        <tr>\n",
    "            <td><code>\\n</code></td>\n",
    "            <td>Crée un retour de ligne (un <i>enter</i>)</td>\n",
    "        </tr>\n",
    "        <tr>\n",
    "            <td><code>\\t</code></td>\n",
    "            <td>Crée un espace horizontal (une tabulation)</td>\n",
    "        </tr>\n",
    "        <tr>\n",
    "            <td><code>\\'</code></td>\n",
    "            <td>Ajoute un simple guillemet sans terminer la chaîne</td>\n",
    "        </tr>\n",
    "        <tr>\n",
    "            <td><code>\\\"</code></td>\n",
    "            <td>Ajoute un double guillement sans terminer la chaîne</td>\n",
    "        </tr>\n",
    "        <tr>\n",
    "            <td><code>\\r</code></td>\n",
    "            <td>Ajoute un retour de chariot (efface toute la ligne)</td>\n",
    "        </tr>\n",
    "        <tr>\n",
    "            <td><code>\\b</code></td>\n",
    "            <td>Efface le caractère précédent (un <i>backspace</i>)</td>\n",
    "        </tr>\n",
    "        <tr>\n",
    "            <td><code>\\\\</code></td>\n",
    "            <td>Affiche une simple barre oblique inversée (un <i>backslash</i> <code>\\</code>)</td>\n",
    "        </tr>\n",
    "        <tr>\n",
    "            <td><code>\\0NN</code></td>\n",
    "            <td>Affiche un caractère en fonction de son code NN, en octal (base huit)</td>\n",
    "        </tr>\n",
    "        <tr>\n",
    "            <td><code>\\xNN</code></td>\n",
    "            <td>Affiche un caractère en fonction de son code NN, en hexadécimal (base seize)</td>\n",
    "        </tr>\n",
    "    </tbody>\n",
    "</table>"
   ],
   "cell_type": "markdown",
   "metadata": {}
  },
  {
   "cell_type": "code",
   "execution_count": null,
   "metadata": {},
   "outputs": [],
   "source": [
    "print(\"Allo\\ttoi!\")\n",
    "print(\"Allo\\ntoi!\")\n",
    "print(\"Allo\\\"toi!\\\"\")\n",
    "print('Allo\\'toi!\\'')\n",
    "print(\"Allo\\\\toi!\")\n",
    "print(\"Allo\\rtoi!\")\n",
    "print(\"Allo\\btoi!\")\n",
    "print(\"Allo\\043toi!\")\n",
    "print(\"Allo\\xF7toi!\")"
   ]
  },
  {
   "source": [
    "### Créer une chaîne à partir d'un itérable\n",
    "Parfois, on veut lier les éléments d'une liste ou d'un tuple en une seule chaîne de caractères."
   ],
   "cell_type": "markdown",
   "metadata": {}
  },
  {
   "cell_type": "code",
   "execution_count": null,
   "metadata": {},
   "outputs": [],
   "source": [
    "ma_liste = [\"Oréo\", \"Vanille\", \"Chocolat\", \"Fraise\", \"Noisette\"]\n",
    "\n",
    "choix_creme_glacee = \", \".join(ma_liste)\n",
    "print(choix_creme_glacee)\n",
    "\n",
    "choix_creme_glacee_verticaux = \"\\n\".join(ma_liste)\n",
    "print(choix_creme_glacee_verticaux)\n"
   ]
  },
  {
   "source": [
    "### Modifier la casse\n",
    "Plusieurs méthodes des chaînes de caractères servent à modifier la casse (majuscules/minuscules).\n",
    "Le tableau suivant les énumère.\n",
    "\n",
    "<table>\n",
    "    <thead>\n",
    "    <style>\n",
    "      table,\n",
    "      th,\n",
    "      td {\n",
    "        padding: 8px 12px;\n",
    "        border: 1px solid;\n",
    "        border-collapse: collapse;\n",
    "      }\n",
    "    </style>\n",
    "        <tr>\n",
    "            <th><strong>Méthode</strong></th>\n",
    "            <th><strong>Effet</strong></th>\n",
    "        </tr>\n",
    "    </thead>\n",
    "    <tbody>\n",
    "        <tr>\n",
    "            <td><code>s.capitalize()</code></td>\n",
    "            <td>Transforme la première lettre en majuscule</td>\n",
    "        </tr>\n",
    "        <tr>\n",
    "            <td><code>s.lower()</code></td>\n",
    "            <td>Transforme toute la chaîne en minuscules</td>\n",
    "        </tr>\n",
    "        <tr>\n",
    "            <td><code>s.casefold()</code></td>\n",
    "            <td>Transforme toute la chaîne en minuscules, en considérant certaines spécificités des langues. Plus agressif que <code>lower</code>.</td>\n",
    "        </tr>\n",
    "        <tr>\n",
    "            <td><code>s.upper()</code></td>\n",
    "            <td>Transforme toute la chaîne en majuscules</td>\n",
    "        </tr>\n",
    "        <tr>\n",
    "            <td><code>s.title()</code></td>\n",
    "            <td>Transforme la première lettre de chaque mot en majuscule, comme les titres en anglais</td>\n",
    "        </tr>\n",
    "        <tr>\n",
    "            <td><code>s.swapcase()</code></td>\n",
    "            <td>Transforme les majuscules en minuscules, et vice-versa</td>\n",
    "        </tr>\n",
    "    </tbody>\n",
    "</table>"
   ],
   "cell_type": "markdown",
   "metadata": {}
  },
  {
   "source": [
    "### Analyse de la chaîne\n",
    "Les méthodes `startswith` et `endswith` peuvent servir à vérifier si la chaîne commence ou se termine par une sous-chaîne.\n",
    "On peut utiliser la méthode `count` pour compter combien de fois une sous-chaîne se retrouve dans une chaîne. On peut donc aussi l'utiliser pour vérifier si une sous-chaîne est contenue n'importe où dans une chaîne."
   ],
   "cell_type": "markdown",
   "metadata": {}
  },
  {
   "cell_type": "code",
   "execution_count": null,
   "metadata": {},
   "outputs": [],
   "source": [
    "chaine = \"Allo le monde!\"\n",
    "\n",
    "print(chaine.startswith(\"All\"))\n",
    "print(chaine.endswith(\"monde\"))\n",
    "print(chaine.count(\"le\") != 0)"
   ]
  },
  {
   "source": [
    "### Substitution simple\n",
    "On peut utiliser la méthode `replace` pour remplacer une partie d'une chaîne par une autre."
   ],
   "cell_type": "markdown",
   "metadata": {}
  },
  {
   "cell_type": "code",
   "execution_count": null,
   "metadata": {},
   "outputs": [],
   "source": [
    "phrase = \"Hey Eugène! Comment vas-tu, Eugène?\"\n",
    "\n",
    "print(phrase)\n",
    "print(phrase.replace(\"Eugène\", \"Daphnée\"))"
   ]
  },
  {
   "source": [
    "### Le module `string`\n",
    "Le module `string` contient des chaînes de caractères souvent utilisées dans différents contextes.\n",
    "\n",
    "``"
   ],
   "cell_type": "markdown",
   "metadata": {}
  },
  {
   "cell_type": "code",
   "execution_count": null,
   "metadata": {},
   "outputs": [],
   "source": [
    "from string import (ascii_letters, ascii_lowercase, ascii_uppercase, digits, hexdigits, octdigits, printable,\n",
    "punctuation, whitespace)\n",
    "\n",
    "print(ascii_letters)\n",
    "print(ascii_lowercase)\n",
    "print(ascii_uppercase)\n",
    "print(digits)\n",
    "print(hexdigits)\n",
    "print(octdigits)\n",
    "print(repr(printable))\n",
    "print(punctuation)\n",
    "print(repr(whitespace))"
   ]
  },
  {
   "cell_type": "code",
   "execution_count": null,
   "metadata": {},
   "outputs": [],
   "source": [
    "# Exemple d'utilisation\n",
    "def caractere(c):\n",
    "    if c in digits:\n",
    "        print(\"Mon caractère est un chiffre!\")\n",
    "    else:\n",
    "        print(\"Mon caractère n'est pas un chiffre.\")\n",
    "\n",
    "caractere('1')\n",
    "caractere('M')\n",
    "caractere('\\n')"
   ]
  },
  {
   "cell_type": "code",
   "execution_count": null,
   "metadata": {},
   "outputs": [],
   "source": []
  }
 ]
}