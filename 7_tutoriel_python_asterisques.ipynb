{
 "metadata": {
  "language_info": {
   "codemirror_mode": {
    "name": "ipython",
    "version": 3
   },
   "file_extension": ".py",
   "mimetype": "text/x-python",
   "name": "python",
   "nbconvert_exporter": "python",
   "pygments_lexer": "ipython3",
   "version": "3.9.5"
  },
  "orig_nbformat": 2,
  "kernelspec": {
   "name": "pythonjvsc74a57bd05c063b7dfde333fdf20f984fb74f4a088bf1bd86dc4c7a2f2a7ddaa47c07b2ec",
   "display_name": "Python 3.9.5 64-bit ('.venv': venv)"
  },
  "metadata": {
   "interpreter": {
    "hash": "5c063b7dfde333fdf20f984fb74f4a088bf1bd86dc4c7a2f2a7ddaa47c07b2ec"
   }
  }
 },
 "nbformat": 4,
 "nbformat_minor": 2,
 "cells": [
  {
   "source": [
    "## Utiliser les astérisques\n",
    "Les astérisques (*) en Python ont d'autres utilités que la multiplication et l'exponentiation. Ils peuvent aussi servir pour compacter et décompacter des conteneurs.\n",
    "\n",
    "### Décompacter des tuples\n",
    "On peut utiliser un astérisque pour décompacter un tuple."
   ],
   "cell_type": "markdown",
   "metadata": {}
  },
  {
   "cell_type": "code",
   "execution_count": null,
   "metadata": {},
   "outputs": [],
   "source": [
    "def afficher_args(argument_1 = 0, argument_2 = 0, argument_3 = 0):\n",
    "    print(f\"1: {argument_1} -> 2: { argument_2} -> 3: {argument_3}\")\n",
    "\n",
    "nombres = (45, 2, -43)\n",
    "afficher_args(nombres)\n",
    "afficher_args(*nombres)"
   ]
  },
  {
   "source": [
    "### Compacter des tuples\n",
    "On peut aussi utiliser l'astérisque pour compacter des tuples."
   ],
   "cell_type": "markdown",
   "metadata": {}
  },
  {
   "cell_type": "code",
   "execution_count": null,
   "metadata": {},
   "outputs": [],
   "source": [
    "def afficher_args(*args):\n",
    "    print(args)\n",
    "    print(type(args))\n",
    "\n",
    "\n",
    "afficher_args(1, 2, 3, 4, 5, 6, 7)"
   ]
  },
  {
   "source": [
    "### Utiliser l'astérisque pour indiquer \"tout le reste\"\n",
    "On peut aussi utiliser l'astérisque lors d'une assignation multiple, pour indiquer \"tout le reste\""
   ],
   "cell_type": "markdown",
   "metadata": {}
  },
  {
   "cell_type": "code",
   "execution_count": null,
   "metadata": {},
   "outputs": [],
   "source": [
    "a, b, *c = (1, 2, 3, 4, 5)\n",
    "print(f\"a: {a}\")\n",
    "print(f\"b: {b}\")\n",
    "print(f\"c: {c}\")"
   ]
  },
  {
   "source": [
    "### L'astérisque et les autres conteneurs\n",
    "L'astérisque simple peut servir à décompacter toutes sortes de conteneurs, pas seulement des tuples.\n",
    "Pour le dictionnaire, on remarque que seules les clés sont décompactées."
   ],
   "cell_type": "markdown",
   "metadata": {}
  },
  {
   "cell_type": "code",
   "execution_count": null,
   "metadata": {},
   "outputs": [],
   "source": [
    "def afficher_args(argument_1 = 0, argument_2 = 0, argument_3 = 0):\n",
    "    print(f\"1: {argument_1} -> 2: { argument_2} -> 3: {argument_3}\")\n",
    "\n",
    "print('-'*30)\n",
    "list_nombres = [45, 2, -43]\n",
    "afficher_args(list_nombres)\n",
    "afficher_args(*list_nombres)\n",
    "print('-'*30)\n",
    "set_nombres = {45, 2, -43}\n",
    "afficher_args(set_nombres)\n",
    "afficher_args(*set_nombres)\n",
    "print('-'*30)\n",
    "dict_nombres = {45: \"allo\", 2: \"test\", -43: False}\n",
    "afficher_args(dict_nombres)\n",
    "afficher_args(*dict_nombres)\n",
    "print('-'*30)"
   ]
  },
  {
   "source": [
    "### Le double astérisque et les dictionnaires: décompacter par paires\n",
    "L'astérisque unique ne décompacte que les clés d'un dictionnaire. Comment décompacter aussi les valeurs? Avec le double astérisque `**`!\n",
    "\n",
    "Le double astérisque décompacte un dictionnaire en passant les arguments par mots-clés! Chaque clé du dictionnaire devient le nom du paramètre, et la valeur, la valeur à donner à l'argument correspondant à ce paramètre."
   ],
   "cell_type": "markdown",
   "metadata": {}
  },
  {
   "cell_type": "code",
   "execution_count": null,
   "metadata": {},
   "outputs": [],
   "source": [
    "def afficher_arguments_dict(a = 0, b = 0, c = 0, allo = 0):\n",
    "    print(f\"a: {a} -> b: {b} -> c: {c} -> allo: {allo}\")\n",
    "\n",
    "dictionnaire = {\"c\": \"allo\", \"a\": 3, \"allo\": \"test\", \"b\": False}\n",
    "\n",
    "afficher_arguments_dict(dictionnaire) # Le dictionnaire au complet est dans la variable a\n",
    "afficher_arguments_dict(*dictionnaire) # Les clés sont utilisées, et comme l'ordre d'un dictionnaire est incertain, dans un ordre difficile à prévoir\n",
    "afficher_arguments_dict(**dictionnaire) # Les clés sont utilisées pour faire correspondre les valeurs aux noms des paramètres!"
   ]
  },
  {
   "source": [
    "### Le double astérisque pour compacter en dictionnaire\r\n",
    "On peut aussi utiliser le double astérisque pour compacter. Cela génère un dictionnaire, avec les clés correspondant aux noms des paramètres passés, et les valeurs, les valeurs de chacun de ces paramètres "
   ],
   "cell_type": "markdown",
   "metadata": {}
  },
  {
   "cell_type": "code",
   "execution_count": null,
   "metadata": {},
   "outputs": [],
   "source": [
    "def afficher_arguments_dictionnaire(**dictionnaire):\n",
    "    print(dictionnaire)\n",
    "\n",
    "afficher_arguments_dictionnaire(allo=234, test=34, patate=None)"
   ]
  },
  {
   "source": [
    "### La convention pour un nombre arbitraire d'arguments: `*args` et `**kwargs`\n",
    "\n",
    "Par convention, lorsqu'on veut signifier `et autres arguments positionnels`, on utilise `*args`, et pour signifier `et autres arguments par mots-clés`, on utilise `**kwargs` (pour `k`ey`w`ord `arg`ument`s`)"
   ],
   "cell_type": "markdown",
   "metadata": {}
  },
  {
   "cell_type": "code",
   "execution_count": null,
   "metadata": {},
   "outputs": [],
   "source": [
    "def fonction_etrange(a, b, c, *args, kwa = None, kwb = None, kwc = None, **kwargs):\n",
    "    print(f\"a: {a}\")\n",
    "    print(f\"b: {b}\")\n",
    "    print(f\"c: {c}\")\n",
    "    print(f\"*args: {args}\")\n",
    "    print(f\"kwa: {kwa}\")\n",
    "    print(f\"kwb: {kwb}\")\n",
    "    print(f\"kwc: {kwc}\")\n",
    "    print(f\"**kwargs: {kwargs}\")\n",
    "\n",
    "print(\"-\"*30)\n",
    "fonction_etrange(213, 43, \"allo\", \"autre_arg\", \"test\", 124, kwa=\"holla\", autre=False, inconnu=34.34 + 34.4j)"
   ]
  },
  {
   "source": [
    "### Notes sur le positionnement avec `*args` et `**kwargs`, et des valeurs par défaut\n",
    "\n",
    "Il y a quelques considérations avec le positionnement des paramètres dans la fonction:\n",
    "- Les paramètres après `*args` doivent absolument être modifiés avec le mot-clé correspondant (`*args` capture tous les arguments qui n'ont pas de mots-clés, donc on ne peut pas s'y rendre sans le mot-clé).\n",
    "- `**kwargs` doit toujours être placé en dernier, s'il est présent.\n",
    "- Un paramètre sans valeur par défaut ne peut jamais être placé après un paramètre avec une valeur par défaut."
   ],
   "cell_type": "markdown",
   "metadata": {}
  }
 ]
}