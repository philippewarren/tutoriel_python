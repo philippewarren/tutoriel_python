{
 "metadata": {
  "language_info": {
   "codemirror_mode": {
    "name": "ipython",
    "version": 3
   },
   "file_extension": ".py",
   "mimetype": "text/x-python",
   "name": "python",
   "nbconvert_exporter": "python",
   "pygments_lexer": "ipython3",
   "version": "3.9.5"
  },
  "orig_nbformat": 2,
  "kernelspec": {
   "name": "pythonjvsc74a57bd05c063b7dfde333fdf20f984fb74f4a088bf1bd86dc4c7a2f2a7ddaa47c07b2ec",
   "display_name": "Python 3.9.5 64-bit ('.venv': venv)"
  },
  "metadata": {
   "interpreter": {
    "hash": "5c063b7dfde333fdf20f984fb74f4a088bf1bd86dc4c7a2f2a7ddaa47c07b2ec"
   }
  }
 },
 "nbformat": 4,
 "nbformat_minor": 2,
 "cells": [
  {
   "source": [
    "## Importations\n",
    "Les fonctionnalités de Python sont séparés en modules. C'est aussi en créant des modules que tout le monde peut participer à ajouter des fonctionnalités au langage à partager avec les autres. Pour utiliser ces modules, il faut les **importer** dans notre projet. Il existe principalement trois façons d'importer des modules:\n",
    "\n",
    "### Importer un module au complet dans son propre espace de nom (*namespace*)\n",
    "On import importer un en entier dans son propre espace de nom avec le mot-clé `import`. La plupart du temps, les `import` sont situés au début des fichiers.\n",
    "L'exemple suivant montre l'utilisation de la fonction `pprint` provenant du module `pprint` pour afficher plus clairement un dictionnaire contenant plusieurs entrées. (`pprint` veut dire \"pretty print\")\n"
   ],
   "cell_type": "markdown",
   "metadata": {}
  },
  {
   "cell_type": "code",
   "execution_count": null,
   "metadata": {
    "tags": []
   },
   "outputs": [],
   "source": [
    "import pprint # On importe le module pprint\n",
    "\n",
    "dictionnaire = {}\n",
    "for i in range(10):\n",
    "    dictionnaire[i] = \"a\"*i\n",
    "\n",
    "print(dictionnaire)\n",
    "pprint.pprint(dictionnaire) # Pour utiliser la fonction pprint, on doit la préfixer par le nom du module d'où elle vient, séparés par un point"
   ]
  },
  {
   "source": [
    "### Importer certains éléments d'un module directement dans l'espace de nom actuel\n",
    "\n",
    "Parfois, on n'a pas besoin de toutes les fonctionnalités d'un module, et on ne veut pas avoir à préfixer ces fonctionnalités avec le nom du module à chaque fois. C'est là qu'intervient l'importation \"à partir de\". Sa syntaxe est la suivante\n",
    "\n",
    "```python\n",
    "from <module> import <fonctionnalité_1>[, <fonctionnalité_2>, <fonctionnalité_3>, ...]\n",
    "```\n",
    "\n",
    "Si on a beaucoup de fonctionnalités à importer, on peut séparer l'importation en plusieurs lignes, ou utiliser des parenthèses:\n",
    "\n",
    "```python\n",
    "from module_specifique import <fonctionnalité_1>, <fonctionnalité_2>\n",
    "from module_specifique import <fonctionnalité_3>\n",
    "```\n",
    "\n",
    "```python\n",
    "from module_specifique import   (\n",
    "                                    <fonctionnalité_1>,\n",
    "                                    <fonctionnalité_2>,\n",
    "                                    <fonctionnalité_3>\n",
    "                                )\n",
    "```"
   ],
   "cell_type": "markdown",
   "metadata": {}
  },
  {
   "cell_type": "code",
   "execution_count": null,
   "metadata": {},
   "outputs": [],
   "source": [
    "from pprint import pprint # On importe seulement la fonction pprint du module pprint\n",
    "\n",
    "dictionnaire = {}\n",
    "for i in range(10):\n",
    "    dictionnaire[i] = \"a\"*i\n",
    "\n",
    "print(dictionnaire)\n",
    "pprint(dictionnaire) # Pour utiliser la fonction pprint, on ne doit plus la préfixer par le nom du module"
   ]
  },
  {
   "source": [
    "### Tout importer d'un module dans l'espace de nom actuel\n",
    "\n",
    "Parfois, on veut utiliser toutes ou presques toutes les fonctionnalités d'un module, et on ne veut pas avoir à préfixer le nom de la fonctionnalité avec le nom du module chaque fois.\n",
    "Il est alors possible de tout importer dans l'espace de nom actuel, à l'aide de l'étoile.\n",
    "\n",
    "```python\n",
    "from <module> import *\n",
    "```\n",
    "Cette pratique est toutefois découragée.\n",
    "\n",
    "### Renommer un module ou une fonctionnalité importée\n",
    "\n",
    "La meilleure façon d'importer un module au complet est d'utiliser la fonctionnalité de renommage lors de l'importation, à l'aide du mot clé `as`.\n",
    "\n",
    "```python\n",
    "import pprint as pp\n",
    "pp.pprint(liste)\n",
    "```\n",
    "\n",
    "Il est aussi possible d'utiliser cette astuce quand on importe avec `from  ... import ...`\n",
    "\n",
    "```python\n",
    "from pprint import pprint as prettyprint\n",
    "prettyprint(liste)\n",
    "```"
   ],
   "cell_type": "markdown",
   "metadata": {}
  },
  {
   "cell_type": "code",
   "execution_count": null,
   "metadata": {},
   "outputs": [],
   "source": [
    "import pprint as pp # On importe toute le module pprint, mais on raccourci son nom en le renommant\n",
    "\n",
    "dictionnaire = {}\n",
    "for i in range(10):\n",
    "    dictionnaire[i] = \"a\"*i\n",
    "\n",
    "print(dictionnaire)\n",
    "pp.pprint(dictionnaire) # Pour utiliser la fonction pprint, on préfixe avec le nouveau nom"
   ]
  },
  {
   "cell_type": "code",
   "execution_count": null,
   "metadata": {},
   "outputs": [],
   "source": [
    "from pprint import pprint as prettyprint # On importe seulement la fonction pprint, et on la renomme en prettyprint pour plus de clarté\n",
    "\n",
    "dictionnaire = {}\n",
    "for i in range(10):\n",
    "    dictionnaire[i] = \"a\"*i\n",
    "\n",
    "print(dictionnaire)\n",
    "prettyprint(dictionnaire) # On appelle la fonction avec le nouveau nom"
   ]
  },
  {
   "source": [
    "### Éviter les conflits\n",
    "Si on a besoin de fonctionnalités provenant de modules différents, ayant le même nom, on a deux choix:\n",
    "- On importe le module au complet (en le renommant ou pas), pour que le nom soit préfixé du nom du module: il n'a donc aucune problème\n",
    "```python\n",
    "import module_a\n",
    "import module_b\n",
    "\n",
    "# Pas de conflit\n",
    "module_a.truc()\n",
    "module_b.truc()\n",
    "```\n",
    "\n",
    "- On importe à partir de chacun des modules, en renommant un ou tous les noms qui ont un conflit\n",
    "\n",
    "```\n",
    "from module_a import truc as truc_a\n",
    "from module_b import truc as truc_b\n",
    "\n",
    "# Encore une fois, on évite le conflit\n",
    "truc_a()\n",
    "truc_b()\n",
    "```"
   ],
   "cell_type": "markdown",
   "metadata": {}
  }
 ]
}