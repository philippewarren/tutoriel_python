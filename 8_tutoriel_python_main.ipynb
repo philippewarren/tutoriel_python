{
 "metadata": {
  "language_info": {
   "codemirror_mode": {
    "name": "ipython",
    "version": 3
   },
   "file_extension": ".py",
   "mimetype": "text/x-python",
   "name": "python",
   "nbconvert_exporter": "python",
   "pygments_lexer": "ipython3",
   "version": "3.9.5"
  },
  "orig_nbformat": 2,
  "kernelspec": {
   "name": "pythonjvsc74a57bd05c063b7dfde333fdf20f984fb74f4a088bf1bd86dc4c7a2f2a7ddaa47c07b2ec",
   "display_name": "Python 3.9.5 64-bit ('.venv': venv)"
  },
  "metadata": {
   "interpreter": {
    "hash": "5c063b7dfde333fdf20f984fb74f4a088bf1bd86dc4c7a2f2a7ddaa47c07b2ec"
   }
  }
 },
 "nbformat": 4,
 "nbformat_minor": 2,
 "cells": [
  {
   "source": [
    "## La \"fonction main\" en Python\n",
    "En Python, il n'y a pas de fonction `main` nécessaire comme point d'entrée du programme, comme dans d'autres langages.\n",
    "Lorsqu'un script Python est exécuté, il est exécuté en entier, de haut en bas. Or, il se produit exactement la même chose lorsqu'il est importé en tant que module dans un autre script.\n",
    "\n",
    "Comment peut-on spécifier qu'une partie de notre script ne doit pas s'exécuter lorsqu'on l'importe comme un module?\n",
    "\n",
    "On utilise une condition spéciale:\n",
    "\n",
    "```if __name__ == '__main__':\n",
    "    declaration\n",
    "    [...]\n",
    "```\n",
    "\n",
    "Wow, pourquoi il y a des doubles *undescores* partout?\n",
    "Python utilise les doubles *undescores* (appelés `dunders`, pour `d`ouble `under`score`s`) pour identifier certaines variables ou valeurs spéciales.\n",
    "\n",
    "Ici, la variable spéciale `__name__` (prononcé `dunder name`) correspond au nom du module. Lorsque notre fichier est importé comme un module, `__name__` aura le nom du module, mais lorsque notre fichier est invoqué directement (en appelant `python mon_fichier.py` dans un terminal), la variable `__name__` vaudra alors la valeur spéciale `__main__`!\n",
    "\n",
    "Ainsi, cette condition ne sera vraie que lorsque le script est invoqué directement, et pas lorsqu'il est importé comme un module.\n",
    "\n",
    "Il est toutefois recommandé de créer une fonction `main` quand même, pour plus de clarté, et pour moins polluer l'espace de nom global:\n",
    "\n",
    "```python\n",
    "def main():\n",
    "    print(\"Je fais des actions!\")\n",
    "\n",
    "if __name__ == '__main__':\n",
    "    main()\n",
    "```"
   ],
   "cell_type": "markdown",
   "metadata": {}
  },
  {
   "cell_type": "code",
   "execution_count": null,
   "metadata": {},
   "outputs": [],
   "source": [
    "def main():\n",
    "    print(\"Cette fonction n'est invoquée que lorsque le script est invoqué directement.\")\n",
    "    ...\n",
    "\n",
    "if __name__ == '__main__':\n",
    "    main()"
   ]
  }
 ]
}