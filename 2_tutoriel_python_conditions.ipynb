{
 "metadata": {
  "language_info": {
   "codemirror_mode": {
    "name": "ipython",
    "version": 3
   },
   "file_extension": ".py",
   "mimetype": "text/x-python",
   "name": "python",
   "nbconvert_exporter": "python",
   "pygments_lexer": "ipython3",
   "version": "3.9.5"
  },
  "orig_nbformat": 2,
  "kernelspec": {
   "name": "pythonjvsc74a57bd05c063b7dfde333fdf20f984fb74f4a088bf1bd86dc4c7a2f2a7ddaa47c07b2ec",
   "display_name": "Python 3.9.5 64-bit ('.venv': venv)"
  },
  "metadata": {
   "interpreter": {
    "hash": "5c063b7dfde333fdf20f984fb74f4a088bf1bd86dc4c7a2f2a7ddaa47c07b2ec"
   }
  }
 },
 "nbformat": 4,
 "nbformat_minor": 2,
 "cells": [
  {
   "source": [
    "## Conditions et boucles\n",
    "Ce tutoriel présente les bases des conditions et des boucles en Python\n",
    "\n",
    "### Conditionnels et `if`\n",
    "Les conditions peuvent être testées par un `if` en Python, comme dans la plupart des langages.\n",
    "Voici la structure d'un `if` classique. Les éléments entre crochets `[]` sont facultatifs.\n",
    "```python\n",
    "if <condition_booleenne>:\n",
    "    declaration_1\n",
    "    [declaration_2]\n",
    "    [...]\n",
    "```\n",
    "La condition booléenne peut être n'importe quelle expression qui est évaluée en une valeur booléenne. Par exemple, cela peut être une comparaison (`a == 3`), une vérification d'inclusion dans une structure de donnée (`a in ma_liste`), ou même une combinaison de conditions (`a == 3 and a in ma_liste`).\n",
    "\n",
    "Les déclarations peuvent être aussi nombreuses que voulues, mais il doit y en avoir au moins une. Si on ne veut rien faire, on peut utiliser la déclaration spéciale `pass`, qui ne fait rien.\n",
    "\n",
    "C'est le niveau d'indentation qui définit les limites du `if`. Lorsque l'indentation revient au même niveau que le mot `if`, on est sorti de la condition."
   ],
   "cell_type": "markdown",
   "metadata": {}
  },
  {
   "cell_type": "code",
   "execution_count": null,
   "metadata": {},
   "outputs": [],
   "source": [
    "a = 3\n",
    "b = 2\n",
    "if a == 3:\n",
    "    print(\"a vaut 3!\")\n",
    "if b == 3:\n",
    "    print(\"b vaut 3!\")\n",
    "print(\"Toujours affiché, on est sorti du `if` en retournant à l'indentation précédente!\")"
   ]
  },
  {
   "source": [
    "### Multiples conditions et `elif`\n",
    "On peut tester pour une variété de conditions en enchaînant des `if` mutuellement exclusifs à l'aide de `elif`. Par mutuellement exclusifs, on entend que lorsqu'un test réussi, on ne vérifie pas les suivants.\n",
    "\n",
    "Voici la structure d'un `if` avec deux `elif`. Les éléments entre crochets `[]` sont facultatifs.\n",
    "```python\n",
    "if <condition_booleenne>:\n",
    "    declaration_1\n",
    "    [declaration_2]\n",
    "    [...]\n",
    "elif <condition_booleenne_2>:\n",
    "    declaration_3\n",
    "    [declaration_4]\n",
    "    [...]\n",
    "elif <condition_booleenne_3>:\n",
    "    declaration_5\n",
    "    [declaration_6]\n",
    "    [...]\n",
    "```\n",
    "On peut inclure autant de `elif` que désiré dans un bloc `if`. Noter que si une plusieurs conditions booléennes serait évaluées comme vraies, seule la première valide sera effectuée."
   ],
   "cell_type": "markdown",
   "metadata": {}
  },
  {
   "cell_type": "code",
   "execution_count": null,
   "metadata": {},
   "outputs": [],
   "source": [
    "a = 3\n",
    "b = 2\n",
    "if a == 4:\n",
    "    print(\"c'est faux, cette ligne ne sera pas exécutée, et on passe au `elif` suivant\")\n",
    "elif a == 3:\n",
    "    print(\"a vaut 3, et on arrête ici!\")\n",
    "elif b == 2:\n",
    "    print(\"vrai aussi, mais ne sera pas exécuté, car la première condition est testée en premier, et une seule est exécutée\")\n",
    "\n",
    "if a == 4:\n",
    "    print(\"c'est faux, cette ligne ne sera pas exécutée, et on continue avec le `ìf` suivant\")\n",
    "if a == 3:\n",
    "    print(\"a vaut 3, et les deux blocs `if` sont disctincts\")\n",
    "if b == 2:\n",
    "    print(\"Cette fois, la deuxième condition est exécutée aussi, puisque les deux `if` sont indépendants\")"
   ]
  },
  {
   "source": [
    "### Chemin par défaut et `else`\n",
    "Le bloc `else` est exécuté si aucune des conditions précédentes n'a été exécutée. Le bloc `else` doit nécessairement être le dernier, après tous les `elif`. Le bloc `else` peut aussi être utilisé avec `if` et aucun `elif`.\n",
    "\n",
    "Exemples:\n",
    "\n",
    "if <condition_booleenne>:\n",
    "    declaration_1\n",
    "    [declaration_2]\n",
    "    [...]\n",
    "elif <condition_booleenne_2>:\n",
    "    declaration_3\n",
    "    [declaration_4]\n",
    "    [...]\n",
    "else:\n",
    "    declaration_5\n",
    "    [declaration_6]\n",
    "    [...]\n",
    "```\n",
    "\n",
    "Dans ce cas, le bloc `else` sera exécuté si les deux conditions booléennes (`condition_booleenne` et `condition_booleenne_2`) sont fausses.\n",
    "\n",
    "if <condition_booleenne>:\n",
    "    declaration_1\n",
    "    [declaration_2]\n",
    "    [...]\n",
    "else:\n",
    "    declaration_3\n",
    "    [declaration_4]\n",
    "    [...]\n",
    "```\n",
    "\n",
    "Dans ce cas, le bloc `else` sera exécuté si la condition booléenne `condition_booleenne` est fausse."
   ],
   "cell_type": "markdown",
   "metadata": {}
  },
  {
   "cell_type": "code",
   "execution_count": null,
   "metadata": {},
   "outputs": [],
   "source": [
    "a = 4\n",
    "if a == 3:\n",
    "    print(\"a vaut 3!\")\n",
    "else:\n",
    "    print(f\"a ne vaut pas 3, mais plutôt {a}!\") # a ne vaut pas 3, mais plutôt 4!"
   ]
  },
  {
   "source": [
    "### Bonus: condition en une ligne\n",
    "\n",
    "Parfois, on veut exécuter une action très simple selon une certaine condition. Python permet de faire un `if` en une seule ligne. Cette façon de faire ne peut pas inclure de `elif`. La structure est la suivante:\n",
    "\n",
    "```expression_si_vrai if <condition_booleenne> else expression_si_faux```\n",
    "\n",
    "#### Nuance entre une expression et une déclaration (*expression* ou *statement* en anglais)\n",
    "Python distingue les expressions des déclarations. Une expression est un cas plus précis de déclaration qui retourne une valeur. Ainsi, une expression est une déclaration, mais une déclaration n'est pas une expression.\n",
    "\n",
    "Exemples d'expressions:\n",
    "- `2`\n",
    "- `\"allo\"`\n",
    "- `3 + 54.62`\n",
    "- `[\"allo\", \"test\"] + [1, 2]`\n",
    "- `sum([1, 2, 3])`\n",
    "Exemples de déclarations:\n",
    "- `pass`\n",
    "- `a = \"allo\"`\n",
    "- `def fonction(): return 2`\n",
    "- Bloc `if`\n",
    "- `return \"allo\"`\n",
    "\n",
    "Le `if` en une ligne est une expression, et on peut donc assigner son résultat à une variable. Par exemple, on peut définir une fonction valeur absolue comme ça:\n",
    "\n",
    "```\n",
    "def absolue(nombre):\n",
    "    return nombre if nombre >= 0 else -nombre\n",
    "```"
   ],
   "cell_type": "markdown",
   "metadata": {}
  },
  {
   "cell_type": "code",
   "execution_count": null,
   "metadata": {},
   "outputs": [],
   "source": [
    "a = 2 if True else 3\n",
    "print(a) # 2\n",
    "b = 2 if False else 3\n",
    "print(b) # 3\n",
    "c = [\"allo\", \"test\"]\n",
    "d = \"alpha\"\n",
    "e = 2*d if d not in c else 3*d\n",
    "print(e) # alphaalpha car 'alpha' n'est pas dans c\n",
    "\n",
    "def absolue(nombre):\n",
    "    return nombre if nombre >= 0 else -nombre\n",
    "\n",
    "a = 12\n",
    "b = -34\n",
    "\n",
    "print(absolue(a)) # 12\n",
    "print(absolue(b)) # 34"
   ]
  }
 ]
}